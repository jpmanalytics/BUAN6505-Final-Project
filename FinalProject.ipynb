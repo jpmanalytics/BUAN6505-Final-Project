{
  "nbformat": 4,
  "nbformat_minor": 0,
  "metadata": {
    "colab": {
      "name": "FinalProject_TrangVersion.ipynb",
      "provenance": [],
      "toc_visible": true,
      "include_colab_link": true
    },
    "kernelspec": {
      "display_name": "Python 3",
      "name": "python3"
    }
  },
  "cells": [
    {
      "cell_type": "markdown",
      "metadata": {
        "id": "view-in-github",
        "colab_type": "text"
      },
      "source": [
        "<a href=\"https://colab.research.google.com/github/jpmanalytics/BUAN6505-Final-Project/blob/main/FinalProject.ipynb\" target=\"_parent\"><img src=\"https://colab.research.google.com/assets/colab-badge.svg\" alt=\"Open In Colab\"/></a>"
      ]
    },
    {
      "cell_type": "markdown",
      "metadata": {
        "id": "1kBv4_bWIDP9"
      },
      "source": [
        "# **Analysis of CitiBike Data**\r\n",
        "\r\n",
        "## **Brought to you by: Joseph Miele and Trang Nguyen**\r\n",
        "![CitiBike](https://astoriapost.com/wp-content/uploads/sites/27/2020/09/citibike.jpg)"
      ]
    },
    {
      "cell_type": "markdown",
      "metadata": {
        "id": "ifgrInWnNXm_"
      },
      "source": [
        "# **Introduction**\n",
        "\n",
        "Citi Bike is a bicycle sharing system serving the New York City boroughs of the Bronx, Brooklyn, Manhattan, and Queen. We will assume the role of a data analyst given the task to draw insights about custumers. \n",
        "\n",
        "Citi Bike operates by stations assigned an ID, where you can rent a bike and drop it off at any station for a fee. Some custumers may also subscribe to Citi Bike instead of paying as you go. \n",
        "\n",
        "In an effort to better understand who uses Citi Bike and where the company may improve on, we will analyze groupings such as gender, age, neighborhood. \n",
        "\n",
        "The dataset we use contains data from December 2019. It contains all the trips taking with a Citi Bike during this time. It would be probably correct to assume there are differences from season to season, but for the scope of our work we can still find conclusion about the types of customers and their behaviors who use Citi Bike using one month's worth of data.  "
      ]
    },
    {
      "cell_type": "markdown",
      "metadata": {
        "id": "jhzjB48eMDlD"
      },
      "source": [
        "# **Project Objectives**\r\n",
        "\r\n",
        "Our intention is to address the following primary questions: \r\n",
        "\r\n",
        "- How long does a typical customer use CitiBike?\r\n",
        "- When do they use it? \r\n",
        "- In what neighborhood do they use the bike? \r\n",
        "- And who are these users? "
      ]
    },
    {
      "cell_type": "markdown",
      "metadata": {
        "id": "Wt6BgBNeNU_z"
      },
      "source": [
        "# **Data Source**\r\n",
        "\r\n",
        "The data we used comes from the following:\r\n",
        "\r\n",
        "- CitiBike data: https://s3.amazonaws.com/tripdata/index.html\r\n",
        "\r\n",
        "- NYC neighborhoods GeoJson data: https://data.beta.nyc/dataset/pediacities-nyc-neighborhoods/resource/35dd04fb-81b3-479b-a074-a27a37888ce7?inner_span=True\r\n",
        "\r\n",
        "The following is data dictionary for our CitiBike data."
      ]
    },
    {
      "cell_type": "markdown",
      "metadata": {
        "id": "vJg9nW7vObig"
      },
      "source": [
        "## Data Dictionary\r\n",
        "\r\n",
        "| Data Label | Meaning | Data Type |\r\n",
        "|------------|---------|-----------|\r\n",
        "| tripduration |The duration of a CitiBike trip in seconds | int |\r\n",
        "| starttime | The start time and date when a CitiBike was used | obj |\r\n",
        "| stoptime | The stop time and date when a CitiBike was used | obj |\r\n",
        "| start station id | Start station ID  | int |\r\n",
        "| start station name | Name of the start station | obj |\r\n",
        "| start station latitude | Start station of the trip latitude | float |\r\n",
        "| start station longitude | Start station of the trip longitude | float |\r\n",
        "| end station id | End station ID  | int |\r\n",
        "| end station name | Name of the end station | obj |\r\n",
        "| end station latitude | End station of the trip latitude | float |\r\n",
        "| end station longitude | End station of the trip longitude | float |\r\n",
        "| bikeid | Bike identification number | int |\r\n",
        "| usertype | User type (Customer = 24-hour pass or 3-day pass user; Subscriber = Annual Member) | obj |\r\n",
        "| birthyear | User's year of birth | int |\r\n",
        "| gender | Gender (Zero=unknown; 1=male; 2=female) | int |"
      ]
    },
    {
      "cell_type": "markdown",
      "metadata": {
        "id": "2uCSyNpukZQ5"
      },
      "source": [
        "# **Data Exploration**\r\n",
        "\r\n",
        "In this first section we will explore and load the data, and begin to answer some questions we may have and what are next steps will be transforming the data for our use. "
      ]
    },
    {
      "cell_type": "markdown",
      "metadata": {
        "id": "PcVfzlXmLbvL"
      },
      "source": [
        "## Load the data \n",
        "\n",
        "First we are going to draw the data from the Citi Bike repository for our analysis"
      ]
    },
    {
      "cell_type": "code",
      "metadata": {
        "id": "ieLZhbSMxTUw",
        "colab": {
          "base_uri": "https://localhost:8080/",
          "height": 367
        },
        "outputId": "263f85da-0e07-4b6d-bfe1-5ed06140ea66"
      },
      "source": [
        "# Import all necessary libraries\n",
        "\n",
        "import pandas as pd\n",
        "import numpy as np \n",
        "from geopy import distance\n",
        "import geopandas as gpd\n",
        "import datetime as dt\n",
        "import matplotlib.pylab as plt\n",
        "%matplotlib inline\n",
        "plt.style.use('fivethirtyeight')\n",
        "import seaborn as sns"
      ],
      "execution_count": 24,
      "outputs": [
        {
          "output_type": "error",
          "ename": "ModuleNotFoundError",
          "evalue": "ignored",
          "traceback": [
            "\u001b[0;31m---------------------------------------------------------------------------\u001b[0m",
            "\u001b[0;31mModuleNotFoundError\u001b[0m                       Traceback (most recent call last)",
            "\u001b[0;32m<ipython-input-24-0d15b280d75d>\u001b[0m in \u001b[0;36m<module>\u001b[0;34m()\u001b[0m\n\u001b[1;32m      4\u001b[0m \u001b[0;32mimport\u001b[0m \u001b[0mnumpy\u001b[0m \u001b[0;32mas\u001b[0m \u001b[0mnp\u001b[0m\u001b[0;34m\u001b[0m\u001b[0;34m\u001b[0m\u001b[0m\n\u001b[1;32m      5\u001b[0m \u001b[0;32mfrom\u001b[0m \u001b[0mgeopy\u001b[0m \u001b[0;32mimport\u001b[0m \u001b[0mdistance\u001b[0m\u001b[0;34m\u001b[0m\u001b[0;34m\u001b[0m\u001b[0m\n\u001b[0;32m----> 6\u001b[0;31m \u001b[0;32mimport\u001b[0m \u001b[0mgeopandas\u001b[0m \u001b[0;32mas\u001b[0m \u001b[0mgpd\u001b[0m\u001b[0;34m\u001b[0m\u001b[0;34m\u001b[0m\u001b[0m\n\u001b[0m\u001b[1;32m      7\u001b[0m \u001b[0;32mimport\u001b[0m \u001b[0mdatetime\u001b[0m \u001b[0;32mas\u001b[0m \u001b[0mdt\u001b[0m\u001b[0;34m\u001b[0m\u001b[0;34m\u001b[0m\u001b[0m\n\u001b[1;32m      8\u001b[0m \u001b[0;32mimport\u001b[0m \u001b[0mmatplotlib\u001b[0m\u001b[0;34m.\u001b[0m\u001b[0mpylab\u001b[0m \u001b[0;32mas\u001b[0m \u001b[0mplt\u001b[0m\u001b[0;34m\u001b[0m\u001b[0;34m\u001b[0m\u001b[0m\n",
            "\u001b[0;31mModuleNotFoundError\u001b[0m: No module named 'geopandas'",
            "",
            "\u001b[0;31m---------------------------------------------------------------------------\u001b[0;32m\nNOTE: If your import is failing due to a missing package, you can\nmanually install dependencies using either !pip or !apt.\n\nTo view examples of installing some common dependencies, click the\n\"Open Examples\" button below.\n\u001b[0;31m---------------------------------------------------------------------------\u001b[0m\n"
          ]
        }
      ]
    },
    {
      "cell_type": "code",
      "metadata": {
        "colab": {
          "base_uri": "https://localhost:8080/"
        },
        "id": "l5Ir9SfkV8OO",
        "outputId": "9663b41d-9947-43f7-dc13-7213561c8a56"
      },
      "source": [
        "# Load citibike data 12/2019\n",
        "\n",
        "!wget 'https://s3.amazonaws.com/tripdata/201912-citibike-tripdata.csv.zip'\n",
        "!unzip 201912-citibike-tripdata.csv.zip"
      ],
      "execution_count": 25,
      "outputs": [
        {
          "output_type": "stream",
          "text": [
            "--2020-12-14 13:17:09--  https://s3.amazonaws.com/tripdata/201912-citibike-tripdata.csv.zip\n",
            "Resolving s3.amazonaws.com (s3.amazonaws.com)... 52.216.205.141\n",
            "Connecting to s3.amazonaws.com (s3.amazonaws.com)|52.216.205.141|:443... connected.\n",
            "HTTP request sent, awaiting response... 200 OK\n",
            "Length: 41083888 (39M) [application/zip]\n",
            "Saving to: ‘201912-citibike-tripdata.csv.zip.1’\n",
            "\n",
            "201912-citibike-tri 100%[===================>]  39.18M  93.5MB/s    in 0.4s    \n",
            "\n",
            "2020-12-14 13:17:09 (93.5 MB/s) - ‘201912-citibike-tripdata.csv.zip.1’ saved [41083888/41083888]\n",
            "\n",
            "Archive:  201912-citibike-tripdata.csv.zip\n",
            "replace 201912-citibike-tripdata.csv? [y]es, [n]o, [A]ll, [N]one, [r]ename: y\n",
            "  inflating: 201912-citibike-tripdata.csv  \n"
          ],
          "name": "stdout"
        }
      ]
    },
    {
      "cell_type": "markdown",
      "metadata": {
        "id": "M8kZ2wkCLhhi"
      },
      "source": [
        "## First look at the data\n",
        "\n",
        "We want to start out with a general overview of the data we are working with. There may be missing data we need to account for. There may be incorrect data types we need to change. We can also start noticing perhaps some outliers and thinking about new columns/features we may want to create for our analysis"
      ]
    },
    {
      "cell_type": "code",
      "metadata": {
        "colab": {
          "base_uri": "https://localhost:8080/",
          "height": 323
        },
        "id": "Ewuy1Me9Y-J9",
        "outputId": "2402ccac-24ce-4c08-9d29-ff105cd44c2d"
      },
      "source": [
        "# Assign bike data to a Pandas dataframe \n",
        "\n",
        "bike201912_df = pd.read_csv('/content/201912-citibike-tripdata.csv')\n",
        "\n",
        "# Explore head of data\n",
        "bike201912_df.head()"
      ],
      "execution_count": 26,
      "outputs": [
        {
          "output_type": "execute_result",
          "data": {
            "text/html": [
              "<div>\n",
              "<style scoped>\n",
              "    .dataframe tbody tr th:only-of-type {\n",
              "        vertical-align: middle;\n",
              "    }\n",
              "\n",
              "    .dataframe tbody tr th {\n",
              "        vertical-align: top;\n",
              "    }\n",
              "\n",
              "    .dataframe thead th {\n",
              "        text-align: right;\n",
              "    }\n",
              "</style>\n",
              "<table border=\"1\" class=\"dataframe\">\n",
              "  <thead>\n",
              "    <tr style=\"text-align: right;\">\n",
              "      <th></th>\n",
              "      <th>tripduration</th>\n",
              "      <th>starttime</th>\n",
              "      <th>stoptime</th>\n",
              "      <th>start station id</th>\n",
              "      <th>start station name</th>\n",
              "      <th>start station latitude</th>\n",
              "      <th>start station longitude</th>\n",
              "      <th>end station id</th>\n",
              "      <th>end station name</th>\n",
              "      <th>end station latitude</th>\n",
              "      <th>end station longitude</th>\n",
              "      <th>bikeid</th>\n",
              "      <th>usertype</th>\n",
              "      <th>birth year</th>\n",
              "      <th>gender</th>\n",
              "    </tr>\n",
              "  </thead>\n",
              "  <tbody>\n",
              "    <tr>\n",
              "      <th>0</th>\n",
              "      <td>602</td>\n",
              "      <td>2019-12-01 00:00:05.5640</td>\n",
              "      <td>2019-12-01 00:10:07.8180</td>\n",
              "      <td>3382</td>\n",
              "      <td>Carroll St &amp; Smith St</td>\n",
              "      <td>40.680611</td>\n",
              "      <td>-73.994758</td>\n",
              "      <td>3304</td>\n",
              "      <td>6 Ave &amp; 9 St</td>\n",
              "      <td>40.668127</td>\n",
              "      <td>-73.983776</td>\n",
              "      <td>41932</td>\n",
              "      <td>Subscriber</td>\n",
              "      <td>1970</td>\n",
              "      <td>1</td>\n",
              "    </tr>\n",
              "    <tr>\n",
              "      <th>1</th>\n",
              "      <td>1206</td>\n",
              "      <td>2019-12-01 00:00:10.9630</td>\n",
              "      <td>2019-12-01 00:20:17.8820</td>\n",
              "      <td>362</td>\n",
              "      <td>Broadway &amp; W 37 St</td>\n",
              "      <td>40.751726</td>\n",
              "      <td>-73.987535</td>\n",
              "      <td>500</td>\n",
              "      <td>Broadway &amp; W 51 St</td>\n",
              "      <td>40.762288</td>\n",
              "      <td>-73.983362</td>\n",
              "      <td>18869</td>\n",
              "      <td>Customer</td>\n",
              "      <td>1999</td>\n",
              "      <td>1</td>\n",
              "    </tr>\n",
              "    <tr>\n",
              "      <th>2</th>\n",
              "      <td>723</td>\n",
              "      <td>2019-12-01 00:00:11.8180</td>\n",
              "      <td>2019-12-01 00:12:14.8310</td>\n",
              "      <td>146</td>\n",
              "      <td>Hudson St &amp; Reade St</td>\n",
              "      <td>40.716250</td>\n",
              "      <td>-74.009106</td>\n",
              "      <td>238</td>\n",
              "      <td>Bank St &amp; Washington St</td>\n",
              "      <td>40.736197</td>\n",
              "      <td>-74.008592</td>\n",
              "      <td>15334</td>\n",
              "      <td>Subscriber</td>\n",
              "      <td>1997</td>\n",
              "      <td>1</td>\n",
              "    </tr>\n",
              "    <tr>\n",
              "      <th>3</th>\n",
              "      <td>404</td>\n",
              "      <td>2019-12-01 00:00:12.2200</td>\n",
              "      <td>2019-12-01 00:06:56.8860</td>\n",
              "      <td>3834</td>\n",
              "      <td>Irving Ave &amp; Halsey St</td>\n",
              "      <td>40.694670</td>\n",
              "      <td>-73.906630</td>\n",
              "      <td>3827</td>\n",
              "      <td>Halsey St &amp; Broadway</td>\n",
              "      <td>40.685650</td>\n",
              "      <td>-73.915640</td>\n",
              "      <td>41692</td>\n",
              "      <td>Customer</td>\n",
              "      <td>1995</td>\n",
              "      <td>1</td>\n",
              "    </tr>\n",
              "    <tr>\n",
              "      <th>4</th>\n",
              "      <td>1059</td>\n",
              "      <td>2019-12-01 00:00:14.7230</td>\n",
              "      <td>2019-12-01 00:17:54.1860</td>\n",
              "      <td>500</td>\n",
              "      <td>Broadway &amp; W 51 St</td>\n",
              "      <td>40.762288</td>\n",
              "      <td>-73.983362</td>\n",
              "      <td>3323</td>\n",
              "      <td>W 106 St &amp; Central Park West</td>\n",
              "      <td>40.798186</td>\n",
              "      <td>-73.960591</td>\n",
              "      <td>40156</td>\n",
              "      <td>Subscriber</td>\n",
              "      <td>1961</td>\n",
              "      <td>1</td>\n",
              "    </tr>\n",
              "  </tbody>\n",
              "</table>\n",
              "</div>"
            ],
            "text/plain": [
              "   tripduration                 starttime  ... birth year  gender\n",
              "0           602  2019-12-01 00:00:05.5640  ...       1970       1\n",
              "1          1206  2019-12-01 00:00:10.9630  ...       1999       1\n",
              "2           723  2019-12-01 00:00:11.8180  ...       1997       1\n",
              "3           404  2019-12-01 00:00:12.2200  ...       1995       1\n",
              "4          1059  2019-12-01 00:00:14.7230  ...       1961       1\n",
              "\n",
              "[5 rows x 15 columns]"
            ]
          },
          "metadata": {
            "tags": []
          },
          "execution_count": 26
        }
      ]
    },
    {
      "cell_type": "code",
      "metadata": {
        "colab": {
          "base_uri": "https://localhost:8080/"
        },
        "id": "aAOqXIjbdFD1",
        "outputId": "be84b69d-0a15-40e2-e6c9-fd2830e95a3a"
      },
      "source": [
        "# Lets further explore the dataframe, we use info to get a description of the features and their data types\n",
        "\n",
        "bike201912_df.info()"
      ],
      "execution_count": 27,
      "outputs": [
        {
          "output_type": "stream",
          "text": [
            "<class 'pandas.core.frame.DataFrame'>\n",
            "RangeIndex: 955210 entries, 0 to 955209\n",
            "Data columns (total 15 columns):\n",
            " #   Column                   Non-Null Count   Dtype  \n",
            "---  ------                   --------------   -----  \n",
            " 0   tripduration             955210 non-null  int64  \n",
            " 1   starttime                955210 non-null  object \n",
            " 2   stoptime                 955210 non-null  object \n",
            " 3   start station id         955210 non-null  int64  \n",
            " 4   start station name       955210 non-null  object \n",
            " 5   start station latitude   955210 non-null  float64\n",
            " 6   start station longitude  955210 non-null  float64\n",
            " 7   end station id           955210 non-null  int64  \n",
            " 8   end station name         955210 non-null  object \n",
            " 9   end station latitude     955210 non-null  float64\n",
            " 10  end station longitude    955210 non-null  float64\n",
            " 11  bikeid                   955210 non-null  int64  \n",
            " 12  usertype                 955210 non-null  object \n",
            " 13  birth year               955210 non-null  int64  \n",
            " 14  gender                   955210 non-null  int64  \n",
            "dtypes: float64(4), int64(6), object(5)\n",
            "memory usage: 109.3+ MB\n"
          ],
          "name": "stdout"
        }
      ]
    },
    {
      "cell_type": "markdown",
      "metadata": {
        "id": "8OXNXpCPIKm9"
      },
      "source": [
        "There are 15 columns and 955,210 rows in this dataset. "
      ]
    },
    {
      "cell_type": "code",
      "metadata": {
        "colab": {
          "base_uri": "https://localhost:8080/"
        },
        "id": "-fPwpgiudKdp",
        "outputId": "76d02e8a-8e9b-45e8-c8fd-fd51229d75c2"
      },
      "source": [
        "# Detect missingness bike data 2019\n",
        "\n",
        "bike201912_df.isnull().mean().round(4)*100"
      ],
      "execution_count": 28,
      "outputs": [
        {
          "output_type": "execute_result",
          "data": {
            "text/plain": [
              "tripduration               0.0\n",
              "starttime                  0.0\n",
              "stoptime                   0.0\n",
              "start station id           0.0\n",
              "start station name         0.0\n",
              "start station latitude     0.0\n",
              "start station longitude    0.0\n",
              "end station id             0.0\n",
              "end station name           0.0\n",
              "end station latitude       0.0\n",
              "end station longitude      0.0\n",
              "bikeid                     0.0\n",
              "usertype                   0.0\n",
              "birth year                 0.0\n",
              "gender                     0.0\n",
              "dtype: float64"
            ]
          },
          "metadata": {
            "tags": []
          },
          "execution_count": 28
        }
      ]
    },
    {
      "cell_type": "markdown",
      "metadata": {
        "id": "6aZwTSTCMUaz"
      },
      "source": [
        "There is **no** missing data in our data."
      ]
    },
    {
      "cell_type": "markdown",
      "metadata": {
        "id": "6CIli7DYLn7L"
      },
      "source": [
        "## Overall descriptive stats\n",
        "\n",
        "Here we are just going to state a general overview of the basic stats of each column"
      ]
    },
    {
      "cell_type": "code",
      "metadata": {
        "colab": {
          "base_uri": "https://localhost:8080/",
          "height": 297
        },
        "id": "fcmKEvcFLr0T",
        "outputId": "8e68513c-e8d4-4461-90b4-13790adb03f2"
      },
      "source": [
        "bike201912_df.describe().round(1)"
      ],
      "execution_count": 29,
      "outputs": [
        {
          "output_type": "execute_result",
          "data": {
            "text/html": [
              "<div>\n",
              "<style scoped>\n",
              "    .dataframe tbody tr th:only-of-type {\n",
              "        vertical-align: middle;\n",
              "    }\n",
              "\n",
              "    .dataframe tbody tr th {\n",
              "        vertical-align: top;\n",
              "    }\n",
              "\n",
              "    .dataframe thead th {\n",
              "        text-align: right;\n",
              "    }\n",
              "</style>\n",
              "<table border=\"1\" class=\"dataframe\">\n",
              "  <thead>\n",
              "    <tr style=\"text-align: right;\">\n",
              "      <th></th>\n",
              "      <th>tripduration</th>\n",
              "      <th>start station id</th>\n",
              "      <th>start station latitude</th>\n",
              "      <th>start station longitude</th>\n",
              "      <th>end station id</th>\n",
              "      <th>end station latitude</th>\n",
              "      <th>end station longitude</th>\n",
              "      <th>bikeid</th>\n",
              "      <th>birth year</th>\n",
              "      <th>gender</th>\n",
              "    </tr>\n",
              "  </thead>\n",
              "  <tbody>\n",
              "    <tr>\n",
              "      <th>count</th>\n",
              "      <td>955210.0</td>\n",
              "      <td>955210.0</td>\n",
              "      <td>955210.0</td>\n",
              "      <td>955210.0</td>\n",
              "      <td>955210.0</td>\n",
              "      <td>955210.0</td>\n",
              "      <td>955210.0</td>\n",
              "      <td>955210.0</td>\n",
              "      <td>955210.0</td>\n",
              "      <td>955210.0</td>\n",
              "    </tr>\n",
              "    <tr>\n",
              "      <th>mean</th>\n",
              "      <td>830.8</td>\n",
              "      <td>1666.6</td>\n",
              "      <td>40.7</td>\n",
              "      <td>-74.0</td>\n",
              "      <td>1646.8</td>\n",
              "      <td>40.7</td>\n",
              "      <td>-74.0</td>\n",
              "      <td>32915.9</td>\n",
              "      <td>1979.4</td>\n",
              "      <td>1.2</td>\n",
              "    </tr>\n",
              "    <tr>\n",
              "      <th>std</th>\n",
              "      <td>10785.7</td>\n",
              "      <td>1493.0</td>\n",
              "      <td>0.0</td>\n",
              "      <td>0.0</td>\n",
              "      <td>1490.9</td>\n",
              "      <td>0.0</td>\n",
              "      <td>0.0</td>\n",
              "      <td>7997.2</td>\n",
              "      <td>12.6</td>\n",
              "      <td>0.5</td>\n",
              "    </tr>\n",
              "    <tr>\n",
              "      <th>min</th>\n",
              "      <td>61.0</td>\n",
              "      <td>72.0</td>\n",
              "      <td>40.7</td>\n",
              "      <td>-74.0</td>\n",
              "      <td>72.0</td>\n",
              "      <td>40.7</td>\n",
              "      <td>-74.1</td>\n",
              "      <td>14529.0</td>\n",
              "      <td>1885.0</td>\n",
              "      <td>0.0</td>\n",
              "    </tr>\n",
              "    <tr>\n",
              "      <th>25%</th>\n",
              "      <td>320.0</td>\n",
              "      <td>380.0</td>\n",
              "      <td>40.7</td>\n",
              "      <td>-74.0</td>\n",
              "      <td>379.0</td>\n",
              "      <td>40.7</td>\n",
              "      <td>-74.0</td>\n",
              "      <td>28716.0</td>\n",
              "      <td>1969.0</td>\n",
              "      <td>1.0</td>\n",
              "    </tr>\n",
              "    <tr>\n",
              "      <th>50%</th>\n",
              "      <td>522.0</td>\n",
              "      <td>509.0</td>\n",
              "      <td>40.7</td>\n",
              "      <td>-74.0</td>\n",
              "      <td>507.0</td>\n",
              "      <td>40.7</td>\n",
              "      <td>-74.0</td>\n",
              "      <td>34101.0</td>\n",
              "      <td>1982.0</td>\n",
              "      <td>1.0</td>\n",
              "    </tr>\n",
              "    <tr>\n",
              "      <th>75%</th>\n",
              "      <td>876.0</td>\n",
              "      <td>3311.0</td>\n",
              "      <td>40.8</td>\n",
              "      <td>-74.0</td>\n",
              "      <td>3307.0</td>\n",
              "      <td>40.8</td>\n",
              "      <td>-74.0</td>\n",
              "      <td>39839.0</td>\n",
              "      <td>1990.0</td>\n",
              "      <td>1.0</td>\n",
              "    </tr>\n",
              "    <tr>\n",
              "      <th>max</th>\n",
              "      <td>3304262.0</td>\n",
              "      <td>3911.0</td>\n",
              "      <td>40.8</td>\n",
              "      <td>-73.9</td>\n",
              "      <td>3911.0</td>\n",
              "      <td>40.8</td>\n",
              "      <td>-73.9</td>\n",
              "      <td>42046.0</td>\n",
              "      <td>2003.0</td>\n",
              "      <td>2.0</td>\n",
              "    </tr>\n",
              "  </tbody>\n",
              "</table>\n",
              "</div>"
            ],
            "text/plain": [
              "       tripduration  start station id  ...  birth year    gender\n",
              "count      955210.0          955210.0  ...    955210.0  955210.0\n",
              "mean          830.8            1666.6  ...      1979.4       1.2\n",
              "std         10785.7            1493.0  ...        12.6       0.5\n",
              "min            61.0              72.0  ...      1885.0       0.0\n",
              "25%           320.0             380.0  ...      1969.0       1.0\n",
              "50%           522.0             509.0  ...      1982.0       1.0\n",
              "75%           876.0            3311.0  ...      1990.0       1.0\n",
              "max       3304262.0            3911.0  ...      2003.0       2.0\n",
              "\n",
              "[8 rows x 10 columns]"
            ]
          },
          "metadata": {
            "tags": []
          },
          "execution_count": 29
        }
      ]
    },
    {
      "cell_type": "markdown",
      "metadata": {
        "id": "-LlOSvd7Y6j7"
      },
      "source": [
        "We noted that the maximum tripduration is very high; we suspect that there are trips that take longer than usual. We will address this in the next section of our analysis."
      ]
    },
    {
      "cell_type": "markdown",
      "metadata": {
        "id": "inxP0bGDnZKt"
      },
      "source": [
        "## Conclusion\r\n",
        "\r\n",
        "The Data gives us all the trips with the starting location and end location, as well as the description of the customer and duration in seconds they traveled. We will need to transform some of this data so we have something more useful and easier for humans to understand"
      ]
    },
    {
      "cell_type": "markdown",
      "metadata": {
        "id": "4Ke_wmcwZmfT"
      },
      "source": [
        "# **Conducting main analysis**\r\n",
        "\r\n",
        "From this point on, we will analyze and review data to address main analytical questions presented in the [project objectives](#scrollTo=jhzjB48eMDlD&line=8&uniqifier=1)."
      ]
    },
    {
      "cell_type": "markdown",
      "metadata": {
        "id": "hf-MsCtQk9rX"
      },
      "source": [
        "# **How does the typcial customer use Citi Bike?**\r\n",
        "\r\n",
        "The first question we want to answer is how Citi Bikes are typically used. If we want to know how create incentive programs, or how to structure the price of Citi Bike, we will need to know how long and how far the average customer is using the bike."
      ]
    },
    {
      "cell_type": "markdown",
      "metadata": {
        "id": "f8yilpj6q1LE"
      },
      "source": [
        "## Feature Engineering (trip_durations and distance)\n",
        "\n",
        "The fundamental first step to analyzing this dataset of bike trips is to make sure we have a duration and distance column. The base dataset only contains the duration donating in seconds, which is a bit hard for humans to comprehend. Its probably easier for us to think to ourselves how long a trip on a bike was if we express it in minutes.  \n",
        "\n",
        "For distance we are given latitude and longitude points between the beginning and end. For this we can use a python package geopy to get a distance in miles we can use. \n",
        "\n"
      ]
    },
    {
      "cell_type": "code",
      "metadata": {
        "colab": {
          "base_uri": "https://localhost:8080/",
          "height": 340
        },
        "id": "XQ1TGi2mpWaQ",
        "outputId": "8d2b2fe6-a8d6-4c61-e396-6f5aa63431d1"
      },
      "source": [
        "# Rename tripduration to duration_seconds\n",
        "\n",
        "bike201912_df.rename(columns = {'tripduration':'duration_seconds'}, inplace = True) \n",
        "bike201912_df.head()"
      ],
      "execution_count": 30,
      "outputs": [
        {
          "output_type": "execute_result",
          "data": {
            "text/html": [
              "<div>\n",
              "<style scoped>\n",
              "    .dataframe tbody tr th:only-of-type {\n",
              "        vertical-align: middle;\n",
              "    }\n",
              "\n",
              "    .dataframe tbody tr th {\n",
              "        vertical-align: top;\n",
              "    }\n",
              "\n",
              "    .dataframe thead th {\n",
              "        text-align: right;\n",
              "    }\n",
              "</style>\n",
              "<table border=\"1\" class=\"dataframe\">\n",
              "  <thead>\n",
              "    <tr style=\"text-align: right;\">\n",
              "      <th></th>\n",
              "      <th>duration_seconds</th>\n",
              "      <th>starttime</th>\n",
              "      <th>stoptime</th>\n",
              "      <th>start station id</th>\n",
              "      <th>start station name</th>\n",
              "      <th>start station latitude</th>\n",
              "      <th>start station longitude</th>\n",
              "      <th>end station id</th>\n",
              "      <th>end station name</th>\n",
              "      <th>end station latitude</th>\n",
              "      <th>end station longitude</th>\n",
              "      <th>bikeid</th>\n",
              "      <th>usertype</th>\n",
              "      <th>birth year</th>\n",
              "      <th>gender</th>\n",
              "    </tr>\n",
              "  </thead>\n",
              "  <tbody>\n",
              "    <tr>\n",
              "      <th>0</th>\n",
              "      <td>602</td>\n",
              "      <td>2019-12-01 00:00:05.5640</td>\n",
              "      <td>2019-12-01 00:10:07.8180</td>\n",
              "      <td>3382</td>\n",
              "      <td>Carroll St &amp; Smith St</td>\n",
              "      <td>40.680611</td>\n",
              "      <td>-73.994758</td>\n",
              "      <td>3304</td>\n",
              "      <td>6 Ave &amp; 9 St</td>\n",
              "      <td>40.668127</td>\n",
              "      <td>-73.983776</td>\n",
              "      <td>41932</td>\n",
              "      <td>Subscriber</td>\n",
              "      <td>1970</td>\n",
              "      <td>1</td>\n",
              "    </tr>\n",
              "    <tr>\n",
              "      <th>1</th>\n",
              "      <td>1206</td>\n",
              "      <td>2019-12-01 00:00:10.9630</td>\n",
              "      <td>2019-12-01 00:20:17.8820</td>\n",
              "      <td>362</td>\n",
              "      <td>Broadway &amp; W 37 St</td>\n",
              "      <td>40.751726</td>\n",
              "      <td>-73.987535</td>\n",
              "      <td>500</td>\n",
              "      <td>Broadway &amp; W 51 St</td>\n",
              "      <td>40.762288</td>\n",
              "      <td>-73.983362</td>\n",
              "      <td>18869</td>\n",
              "      <td>Customer</td>\n",
              "      <td>1999</td>\n",
              "      <td>1</td>\n",
              "    </tr>\n",
              "    <tr>\n",
              "      <th>2</th>\n",
              "      <td>723</td>\n",
              "      <td>2019-12-01 00:00:11.8180</td>\n",
              "      <td>2019-12-01 00:12:14.8310</td>\n",
              "      <td>146</td>\n",
              "      <td>Hudson St &amp; Reade St</td>\n",
              "      <td>40.716250</td>\n",
              "      <td>-74.009106</td>\n",
              "      <td>238</td>\n",
              "      <td>Bank St &amp; Washington St</td>\n",
              "      <td>40.736197</td>\n",
              "      <td>-74.008592</td>\n",
              "      <td>15334</td>\n",
              "      <td>Subscriber</td>\n",
              "      <td>1997</td>\n",
              "      <td>1</td>\n",
              "    </tr>\n",
              "    <tr>\n",
              "      <th>3</th>\n",
              "      <td>404</td>\n",
              "      <td>2019-12-01 00:00:12.2200</td>\n",
              "      <td>2019-12-01 00:06:56.8860</td>\n",
              "      <td>3834</td>\n",
              "      <td>Irving Ave &amp; Halsey St</td>\n",
              "      <td>40.694670</td>\n",
              "      <td>-73.906630</td>\n",
              "      <td>3827</td>\n",
              "      <td>Halsey St &amp; Broadway</td>\n",
              "      <td>40.685650</td>\n",
              "      <td>-73.915640</td>\n",
              "      <td>41692</td>\n",
              "      <td>Customer</td>\n",
              "      <td>1995</td>\n",
              "      <td>1</td>\n",
              "    </tr>\n",
              "    <tr>\n",
              "      <th>4</th>\n",
              "      <td>1059</td>\n",
              "      <td>2019-12-01 00:00:14.7230</td>\n",
              "      <td>2019-12-01 00:17:54.1860</td>\n",
              "      <td>500</td>\n",
              "      <td>Broadway &amp; W 51 St</td>\n",
              "      <td>40.762288</td>\n",
              "      <td>-73.983362</td>\n",
              "      <td>3323</td>\n",
              "      <td>W 106 St &amp; Central Park West</td>\n",
              "      <td>40.798186</td>\n",
              "      <td>-73.960591</td>\n",
              "      <td>40156</td>\n",
              "      <td>Subscriber</td>\n",
              "      <td>1961</td>\n",
              "      <td>1</td>\n",
              "    </tr>\n",
              "  </tbody>\n",
              "</table>\n",
              "</div>"
            ],
            "text/plain": [
              "   duration_seconds                 starttime  ... birth year  gender\n",
              "0               602  2019-12-01 00:00:05.5640  ...       1970       1\n",
              "1              1206  2019-12-01 00:00:10.9630  ...       1999       1\n",
              "2               723  2019-12-01 00:00:11.8180  ...       1997       1\n",
              "3               404  2019-12-01 00:00:12.2200  ...       1995       1\n",
              "4              1059  2019-12-01 00:00:14.7230  ...       1961       1\n",
              "\n",
              "[5 rows x 15 columns]"
            ]
          },
          "metadata": {
            "tags": []
          },
          "execution_count": 30
        }
      ]
    },
    {
      "cell_type": "code",
      "metadata": {
        "colab": {
          "base_uri": "https://localhost:8080/",
          "height": 204
        },
        "id": "uSY0-OLSMCcf",
        "outputId": "2a83f9d4-6682-45b8-ba70-32b1ba7f832d"
      },
      "source": [
        "# Convert the trip duration to minutes, here we use an apply function. \n",
        "# We want to use double divide // to get the whole minutes from seconds, then add on remaining seconds as a decimal by using the modular divided by 60\n",
        "# If we do not do this and just use regular division, we will get fractions values greater than 60, which does not make sense in time format. \n",
        "\n",
        "bike201912_df['duration_mins'] = bike201912_df['duration_seconds'].apply(lambda x: x // 60 + x % 60 / 100)\n",
        "bike201912_df[['duration_seconds','duration_mins']].head()"
      ],
      "execution_count": 31,
      "outputs": [
        {
          "output_type": "execute_result",
          "data": {
            "text/html": [
              "<div>\n",
              "<style scoped>\n",
              "    .dataframe tbody tr th:only-of-type {\n",
              "        vertical-align: middle;\n",
              "    }\n",
              "\n",
              "    .dataframe tbody tr th {\n",
              "        vertical-align: top;\n",
              "    }\n",
              "\n",
              "    .dataframe thead th {\n",
              "        text-align: right;\n",
              "    }\n",
              "</style>\n",
              "<table border=\"1\" class=\"dataframe\">\n",
              "  <thead>\n",
              "    <tr style=\"text-align: right;\">\n",
              "      <th></th>\n",
              "      <th>duration_seconds</th>\n",
              "      <th>duration_mins</th>\n",
              "    </tr>\n",
              "  </thead>\n",
              "  <tbody>\n",
              "    <tr>\n",
              "      <th>0</th>\n",
              "      <td>602</td>\n",
              "      <td>10.02</td>\n",
              "    </tr>\n",
              "    <tr>\n",
              "      <th>1</th>\n",
              "      <td>1206</td>\n",
              "      <td>20.06</td>\n",
              "    </tr>\n",
              "    <tr>\n",
              "      <th>2</th>\n",
              "      <td>723</td>\n",
              "      <td>12.03</td>\n",
              "    </tr>\n",
              "    <tr>\n",
              "      <th>3</th>\n",
              "      <td>404</td>\n",
              "      <td>6.44</td>\n",
              "    </tr>\n",
              "    <tr>\n",
              "      <th>4</th>\n",
              "      <td>1059</td>\n",
              "      <td>17.39</td>\n",
              "    </tr>\n",
              "  </tbody>\n",
              "</table>\n",
              "</div>"
            ],
            "text/plain": [
              "   duration_seconds  duration_mins\n",
              "0               602          10.02\n",
              "1              1206          20.06\n",
              "2               723          12.03\n",
              "3               404           6.44\n",
              "4              1059          17.39"
            ]
          },
          "metadata": {
            "tags": []
          },
          "execution_count": 31
        }
      ]
    },
    {
      "cell_type": "code",
      "metadata": {
        "colab": {
          "base_uri": "https://localhost:8080/"
        },
        "id": "wqOZgjZjspNE",
        "outputId": "750f8eb6-b200-4761-ef25-da54bf8ffb63"
      },
      "source": [
        "# We want a column that displays the distance traveled. We can use geopy to calculate distance between lat lon coordinates. We will calculate in miles. \n",
        "\n",
        "bike201912_df['distance_miles'] = [distance.distance([row[0], row[1]], [row[2], row[3]]).miles for row in bike201912_df[['start station latitude', 'start station longitude', 'end station latitude', 'end station longitude']].to_numpy()]\n",
        "\n",
        "bike201912_df['distance_miles'].head()"
      ],
      "execution_count": 32,
      "outputs": [
        {
          "output_type": "execute_result",
          "data": {
            "text/plain": [
              "0    1.036773\n",
              "1    0.760991\n",
              "2    1.376629\n",
              "3    0.781876\n",
              "4    2.749951\n",
              "Name: distance_miles, dtype: float64"
            ]
          },
          "metadata": {
            "tags": []
          },
          "execution_count": 32
        }
      ]
    },
    {
      "cell_type": "code",
      "metadata": {
        "colab": {
          "base_uri": "https://localhost:8080/",
          "height": 204
        },
        "id": "6WZr8HN5_rNX",
        "outputId": "692162d9-d36e-404e-f557-f14d5e697c47"
      },
      "source": [
        "# Eyeball test new features\n",
        "\n",
        "bike201912_df[['duration_seconds','duration_mins', 'distance_miles']].head()"
      ],
      "execution_count": 33,
      "outputs": [
        {
          "output_type": "execute_result",
          "data": {
            "text/html": [
              "<div>\n",
              "<style scoped>\n",
              "    .dataframe tbody tr th:only-of-type {\n",
              "        vertical-align: middle;\n",
              "    }\n",
              "\n",
              "    .dataframe tbody tr th {\n",
              "        vertical-align: top;\n",
              "    }\n",
              "\n",
              "    .dataframe thead th {\n",
              "        text-align: right;\n",
              "    }\n",
              "</style>\n",
              "<table border=\"1\" class=\"dataframe\">\n",
              "  <thead>\n",
              "    <tr style=\"text-align: right;\">\n",
              "      <th></th>\n",
              "      <th>duration_seconds</th>\n",
              "      <th>duration_mins</th>\n",
              "      <th>distance_miles</th>\n",
              "    </tr>\n",
              "  </thead>\n",
              "  <tbody>\n",
              "    <tr>\n",
              "      <th>0</th>\n",
              "      <td>602</td>\n",
              "      <td>10.02</td>\n",
              "      <td>1.036773</td>\n",
              "    </tr>\n",
              "    <tr>\n",
              "      <th>1</th>\n",
              "      <td>1206</td>\n",
              "      <td>20.06</td>\n",
              "      <td>0.760991</td>\n",
              "    </tr>\n",
              "    <tr>\n",
              "      <th>2</th>\n",
              "      <td>723</td>\n",
              "      <td>12.03</td>\n",
              "      <td>1.376629</td>\n",
              "    </tr>\n",
              "    <tr>\n",
              "      <th>3</th>\n",
              "      <td>404</td>\n",
              "      <td>6.44</td>\n",
              "      <td>0.781876</td>\n",
              "    </tr>\n",
              "    <tr>\n",
              "      <th>4</th>\n",
              "      <td>1059</td>\n",
              "      <td>17.39</td>\n",
              "      <td>2.749951</td>\n",
              "    </tr>\n",
              "  </tbody>\n",
              "</table>\n",
              "</div>"
            ],
            "text/plain": [
              "   duration_seconds  duration_mins  distance_miles\n",
              "0               602          10.02        1.036773\n",
              "1              1206          20.06        0.760991\n",
              "2               723          12.03        1.376629\n",
              "3               404           6.44        0.781876\n",
              "4              1059          17.39        2.749951"
            ]
          },
          "metadata": {
            "tags": []
          },
          "execution_count": 33
        }
      ]
    },
    {
      "cell_type": "markdown",
      "metadata": {
        "id": "Caw4AeMSL30f"
      },
      "source": [
        "## Distribution of the trip durations and distance\n",
        "\n",
        "To start getting a feel for our data it would be best to create distrubutions of both the time and distance Citi Bike users travel. From here we can get a general sense of the average and most likely behavior of the customer."
      ]
    },
    {
      "cell_type": "code",
      "metadata": {
        "colab": {
          "base_uri": "https://localhost:8080/",
          "height": 276
        },
        "id": "e4WgMkXdO0UU",
        "outputId": "8c447afd-a121-439c-f9b6-0819bb2827b6"
      },
      "source": [
        "# Lets now see a histogram of our trips in minute donation \n",
        "\n",
        "hist_bins = np.linspace(0, bike201912_df['duration_mins'].max(), num = 5)\n",
        "\n",
        "bike201912_df['duration_mins'].hist();"
      ],
      "execution_count": 34,
      "outputs": [
        {
          "output_type": "display_data",
          "data": {
            "image/png": "[encoded data removed]",
            "text/plain": [
              "<Figure size 432x288 with 1 Axes>"
            ]
          },
          "metadata": {
            "tags": [],
            "needs_background": "light"
          }
        }
      ]
    },
    {
      "cell_type": "markdown",
      "metadata": {
        "id": "NMLu_WEKc3wx"
      },
      "source": [
        "The above histogram does not look right, we have some extreme outliers that throw off our histogram. "
      ]
    },
    {
      "cell_type": "code",
      "metadata": {
        "colab": {
          "base_uri": "https://localhost:8080/"
        },
        "id": "hQiz_bewsW_t",
        "outputId": "d33295d4-8a8a-4d12-ea19-fed6e9dd66b3"
      },
      "source": [
        "# Lets see what the max trip of our data is \n",
        "\n",
        "bike201912_df['duration_mins'].max()\n",
        "\n",
        "# We may need to drop rows with extreme outliers This trip duration is over a week and unreasonable for our analysis"
      ],
      "execution_count": 35,
      "outputs": [
        {
          "output_type": "execute_result",
          "data": {
            "text/plain": [
              "55071.02"
            ]
          },
          "metadata": {
            "tags": []
          },
          "execution_count": 35
        }
      ]
    },
    {
      "cell_type": "code",
      "metadata": {
        "colab": {
          "base_uri": "https://localhost:8080/"
        },
        "id": "f-ztTnlLXeW1",
        "outputId": "51f6cab0-3158-45df-f437-0b0d63d1f482"
      },
      "source": [
        "# Lets explore how much of our data are outliers. Lets see how many bike trips lasted over 24 hours. (24 hours = 1440 mins)\n",
        "\n",
        "bike201912_df[bike201912_df['duration_mins'] > 1440].shape[0]\n",
        "\n",
        "# there are 279 values I would consider extreme"
      ],
      "execution_count": 36,
      "outputs": [
        {
          "output_type": "execute_result",
          "data": {
            "text/plain": [
              "279"
            ]
          },
          "metadata": {
            "tags": []
          },
          "execution_count": 36
        }
      ]
    },
    {
      "cell_type": "code",
      "metadata": {
        "id": "4mXE7TOUZDsS"
      },
      "source": [
        "# Lets create a new df without those outliers \n",
        "\n",
        "bike201912_df_revised = bike201912_df[bike201912_df['duration_mins'] <= 1440]\n",
        "\n",
        "# Check to see if we moved correct values difference between original dataframe and new dataframe should be 279\n",
        "\n",
        "assert bike201912_df.shape[0] - bike201912_df_revised.shape[0] == 279"
      ],
      "execution_count": 37,
      "outputs": []
    },
    {
      "cell_type": "code",
      "metadata": {
        "colab": {
          "base_uri": "https://localhost:8080/",
          "height": 276
        },
        "id": "tlaxY_pwZsdh",
        "outputId": "d41212b8-261c-4e79-f73b-fd1d19d48d3b"
      },
      "source": [
        "# Now lets try exploring the histogram of trips again \n",
        "\n",
        "bike201912_df_revised['duration_mins'].hist();\n",
        "\n",
        "# it looks like we still didn't narrow it down enough "
      ],
      "execution_count": 38,
      "outputs": [
        {
          "output_type": "display_data",
          "data": {
            "image/png": "[encoded data removed]",
            "text/plain": [
              "<Figure size 432x288 with 1 Axes>"
            ]
          },
          "metadata": {
            "tags": [],
            "needs_background": "light"
          }
        }
      ]
    },
    {
      "cell_type": "code",
      "metadata": {
        "colab": {
          "base_uri": "https://localhost:8080/",
          "height": 268
        },
        "id": "NkBDg_kGZ_LQ",
        "outputId": "490034a9-16d5-4aa3-aede-0e34e22c8b8a"
      },
      "source": [
        "# lets try a new dataframe \n",
        "\n",
        "bike201912_df[bike201912_df['duration_mins'] <= 100].duration_mins.hist(bins=50);\n",
        "\n",
        "# This is looking better, almost like a log distribution "
      ],
      "execution_count": 39,
      "outputs": [
        {
          "output_type": "display_data",
          "data": {
            "image/png": "[encoded data removed]",
            "text/plain": [
              "<Figure size 432x288 with 1 Axes>"
            ]
          },
          "metadata": {
            "tags": [],
            "needs_background": "light"
          }
        }
      ]
    },
    {
      "cell_type": "code",
      "metadata": {
        "colab": {
          "base_uri": "https://localhost:8080/",
          "height": 265
        },
        "id": "esThmC9LbJYA",
        "outputId": "972a6f38-cd49-4278-c705-3d6bd4ad9792"
      },
      "source": [
        "# Narrow it down one more time \n",
        "\n",
        "bike201912_df[bike201912_df['duration_mins'] <= 60].duration_mins.hist(bins=60);\n",
        "\n",
        "# it looks like capping our trup duration at 1 hour gives us the best data to use. Trips over an hour possible the riders may have stopped for lunch, or took a different route for one reason or another. \n"
      ],
      "execution_count": 40,
      "outputs": [
        {
          "output_type": "display_data",
          "data": {
            "image/png": "[encoded data removed]",
            "text/plain": [
              "<Figure size 432x288 with 1 Axes>"
            ]
          },
          "metadata": {
            "tags": [],
            "needs_background": "light"
          }
        }
      ]
    },
    {
      "cell_type": "code",
      "metadata": {
        "colab": {
          "base_uri": "https://localhost:8080/"
        },
        "id": "Sds2Neh_XTpw",
        "outputId": "5e73d636-751d-42c5-a0e7-cb50f864d6cd"
      },
      "source": [
        "# Calculate the percentage of data that we are going to get rid of \n",
        "\n",
        "unwanted_data = round((bike201912_df[bike201912_df['duration_mins'] > 60].shape[0] / bike201912_df.shape[0])*100,2)\n",
        "\n",
        "print('We will get rid of ' + str(unwanted_data)+'% of data that do not meet our requirement')"
      ],
      "execution_count": 41,
      "outputs": [
        {
          "output_type": "stream",
          "text": [
            "We will get rid of 0.53% of data that do not meet our requirement\n"
          ],
          "name": "stdout"
        }
      ]
    },
    {
      "cell_type": "code",
      "metadata": {
        "id": "-Ja9i2WmbnFo"
      },
      "source": [
        "# Lets edit our revised dataframe one more time \n",
        "\n",
        "bike201912_df_revised = bike201912_df[bike201912_df['duration_mins'] <= 60]\n",
        "\n",
        "# Lets assert we did it correct\n",
        "\n",
        "assert bike201912_df.shape[0] - bike201912_df_revised.shape[0] == bike201912_df[bike201912_df['duration_mins'] > 60].shape[0]\n",
        "\n"
      ],
      "execution_count": 42,
      "outputs": []
    },
    {
      "cell_type": "code",
      "metadata": {
        "colab": {
          "base_uri": "https://localhost:8080/",
          "height": 265
        },
        "id": "Mj1euniMXPAk",
        "outputId": "f0ae1a3c-0892-497f-e739-411bf05805c9"
      },
      "source": [
        "# Now lets use our revised dataset to create a distrubution of the distance traveled \n",
        "\n",
        "bike201912_df_revised.distance_miles.hist(bins=60);\n",
        "\n",
        "# This looks similar, and also looks like a log distritbution "
      ],
      "execution_count": 43,
      "outputs": [
        {
          "output_type": "display_data",
          "data": {
            "image/png": "[encoded data removed]",
            "text/plain": [
              "<Figure size 432x288 with 1 Axes>"
            ]
          },
          "metadata": {
            "tags": [],
            "needs_background": "light"
          }
        }
      ]
    },
    {
      "cell_type": "code",
      "metadata": {
        "colab": {
          "base_uri": "https://localhost:8080/",
          "height": 408
        },
        "id": "w6C3LVfyZP5q",
        "outputId": "37894cb1-98f8-48b0-c4f6-a2b64397eaee"
      },
      "source": [
        "# Code to look at head of the new dataframe\n",
        "\n",
        "bike201912_df_revised.head()"
      ],
      "execution_count": 44,
      "outputs": [
        {
          "output_type": "execute_result",
          "data": {
            "text/html": [
              "<div>\n",
              "<style scoped>\n",
              "    .dataframe tbody tr th:only-of-type {\n",
              "        vertical-align: middle;\n",
              "    }\n",
              "\n",
              "    .dataframe tbody tr th {\n",
              "        vertical-align: top;\n",
              "    }\n",
              "\n",
              "    .dataframe thead th {\n",
              "        text-align: right;\n",
              "    }\n",
              "</style>\n",
              "<table border=\"1\" class=\"dataframe\">\n",
              "  <thead>\n",
              "    <tr style=\"text-align: right;\">\n",
              "      <th></th>\n",
              "      <th>duration_seconds</th>\n",
              "      <th>starttime</th>\n",
              "      <th>stoptime</th>\n",
              "      <th>start station id</th>\n",
              "      <th>start station name</th>\n",
              "      <th>start station latitude</th>\n",
              "      <th>start station longitude</th>\n",
              "      <th>end station id</th>\n",
              "      <th>end station name</th>\n",
              "      <th>end station latitude</th>\n",
              "      <th>end station longitude</th>\n",
              "      <th>bikeid</th>\n",
              "      <th>usertype</th>\n",
              "      <th>birth year</th>\n",
              "      <th>gender</th>\n",
              "      <th>duration_mins</th>\n",
              "      <th>distance_miles</th>\n",
              "    </tr>\n",
              "  </thead>\n",
              "  <tbody>\n",
              "    <tr>\n",
              "      <th>0</th>\n",
              "      <td>602</td>\n",
              "      <td>2019-12-01 00:00:05.5640</td>\n",
              "      <td>2019-12-01 00:10:07.8180</td>\n",
              "      <td>3382</td>\n",
              "      <td>Carroll St &amp; Smith St</td>\n",
              "      <td>40.680611</td>\n",
              "      <td>-73.994758</td>\n",
              "      <td>3304</td>\n",
              "      <td>6 Ave &amp; 9 St</td>\n",
              "      <td>40.668127</td>\n",
              "      <td>-73.983776</td>\n",
              "      <td>41932</td>\n",
              "      <td>Subscriber</td>\n",
              "      <td>1970</td>\n",
              "      <td>1</td>\n",
              "      <td>10.02</td>\n",
              "      <td>1.036773</td>\n",
              "    </tr>\n",
              "    <tr>\n",
              "      <th>1</th>\n",
              "      <td>1206</td>\n",
              "      <td>2019-12-01 00:00:10.9630</td>\n",
              "      <td>2019-12-01 00:20:17.8820</td>\n",
              "      <td>362</td>\n",
              "      <td>Broadway &amp; W 37 St</td>\n",
              "      <td>40.751726</td>\n",
              "      <td>-73.987535</td>\n",
              "      <td>500</td>\n",
              "      <td>Broadway &amp; W 51 St</td>\n",
              "      <td>40.762288</td>\n",
              "      <td>-73.983362</td>\n",
              "      <td>18869</td>\n",
              "      <td>Customer</td>\n",
              "      <td>1999</td>\n",
              "      <td>1</td>\n",
              "      <td>20.06</td>\n",
              "      <td>0.760991</td>\n",
              "    </tr>\n",
              "    <tr>\n",
              "      <th>2</th>\n",
              "      <td>723</td>\n",
              "      <td>2019-12-01 00:00:11.8180</td>\n",
              "      <td>2019-12-01 00:12:14.8310</td>\n",
              "      <td>146</td>\n",
              "      <td>Hudson St &amp; Reade St</td>\n",
              "      <td>40.716250</td>\n",
              "      <td>-74.009106</td>\n",
              "      <td>238</td>\n",
              "      <td>Bank St &amp; Washington St</td>\n",
              "      <td>40.736197</td>\n",
              "      <td>-74.008592</td>\n",
              "      <td>15334</td>\n",
              "      <td>Subscriber</td>\n",
              "      <td>1997</td>\n",
              "      <td>1</td>\n",
              "      <td>12.03</td>\n",
              "      <td>1.376629</td>\n",
              "    </tr>\n",
              "    <tr>\n",
              "      <th>3</th>\n",
              "      <td>404</td>\n",
              "      <td>2019-12-01 00:00:12.2200</td>\n",
              "      <td>2019-12-01 00:06:56.8860</td>\n",
              "      <td>3834</td>\n",
              "      <td>Irving Ave &amp; Halsey St</td>\n",
              "      <td>40.694670</td>\n",
              "      <td>-73.906630</td>\n",
              "      <td>3827</td>\n",
              "      <td>Halsey St &amp; Broadway</td>\n",
              "      <td>40.685650</td>\n",
              "      <td>-73.915640</td>\n",
              "      <td>41692</td>\n",
              "      <td>Customer</td>\n",
              "      <td>1995</td>\n",
              "      <td>1</td>\n",
              "      <td>6.44</td>\n",
              "      <td>0.781876</td>\n",
              "    </tr>\n",
              "    <tr>\n",
              "      <th>4</th>\n",
              "      <td>1059</td>\n",
              "      <td>2019-12-01 00:00:14.7230</td>\n",
              "      <td>2019-12-01 00:17:54.1860</td>\n",
              "      <td>500</td>\n",
              "      <td>Broadway &amp; W 51 St</td>\n",
              "      <td>40.762288</td>\n",
              "      <td>-73.983362</td>\n",
              "      <td>3323</td>\n",
              "      <td>W 106 St &amp; Central Park West</td>\n",
              "      <td>40.798186</td>\n",
              "      <td>-73.960591</td>\n",
              "      <td>40156</td>\n",
              "      <td>Subscriber</td>\n",
              "      <td>1961</td>\n",
              "      <td>1</td>\n",
              "      <td>17.39</td>\n",
              "      <td>2.749951</td>\n",
              "    </tr>\n",
              "  </tbody>\n",
              "</table>\n",
              "</div>"
            ],
            "text/plain": [
              "   duration_seconds                 starttime  ... duration_mins  distance_miles\n",
              "0               602  2019-12-01 00:00:05.5640  ...         10.02        1.036773\n",
              "1              1206  2019-12-01 00:00:10.9630  ...         20.06        0.760991\n",
              "2               723  2019-12-01 00:00:11.8180  ...         12.03        1.376629\n",
              "3               404  2019-12-01 00:00:12.2200  ...          6.44        0.781876\n",
              "4              1059  2019-12-01 00:00:14.7230  ...         17.39        2.749951\n",
              "\n",
              "[5 rows x 17 columns]"
            ]
          },
          "metadata": {
            "tags": []
          },
          "execution_count": 44
        }
      ]
    },
    {
      "cell_type": "markdown",
      "metadata": {
        "id": "dl4oFgVblkYk"
      },
      "source": [
        "## Scatterplot of Distance and Duration\r\n",
        "\r\n",
        "Let us plot distance and duration together to see we can get a general sense if the assumption that the longer the distance, the higher the duration is true. "
      ]
    },
    {
      "cell_type": "code",
      "metadata": {
        "colab": {
          "base_uri": "https://localhost:8080/",
          "height": 295
        },
        "id": "gEZ9lMTLltHR",
        "outputId": "a3e6568e-9afe-4559-c586-3c2cb1812d9e"
      },
      "source": [
        "# Let us use matplotlib to show if there is correleation between trip and distance \r\n",
        "# We will also add a simple linear regression line to see if there is a trend between the two \r\n",
        "\r\n",
        "from matplotlib import pyplot as plt\r\n",
        "\r\n",
        "plt.plot(bike201912_df_revised.duration_mins, bike201912_df_revised.distance_miles, 'o')\r\n",
        "m, b = np.polyfit(bike201912_df_revised.duration_mins, bike201912_df_revised.distance_miles, 1) \r\n",
        "plt.plot(bike201912_df_revised.duration_mins, m*bike201912_df_revised.duration_mins+b)\r\n",
        "plt.title(\"Duration vs Distance\")\r\n",
        "plt.xlabel(\"Duration (Minutes)\")\r\n",
        "plt.ylabel(\"Distance (Miles)\")\r\n",
        "plt.show()"
      ],
      "execution_count": 46,
      "outputs": [
        {
          "output_type": "display_data",
          "data": {
            "image/png": "[encoded data removed]",
            "text/plain": [
              "<Figure size 432x288 with 1 Axes>"
            ]
          },
          "metadata": {
            "tags": [],
            "needs_background": "light"
          }
        }
      ]
    },
    {
      "cell_type": "markdown",
      "metadata": {
        "id": "asBQOA4yq6gD"
      },
      "source": [
        "## Linear Regression of Distance and Duration\r\n",
        "\r\n",
        "To see how well our trendline showed a relationship between the two variables, let us do a simple linear regression to see if the correlation holds up, or if there is too much variation to say the duration and distance influence each other"
      ]
    },
    {
      "cell_type": "code",
      "metadata": {
        "colab": {
          "base_uri": "https://localhost:8080/"
        },
        "id": "KnVUU--lqOzB",
        "outputId": "b2092580-4a27-49ec-f706-0165ea19924c"
      },
      "source": [
        "# Let us test how well our regression fits the data \r\n",
        "from scipy import stats\r\n",
        "\r\n",
        "slope, intercept, r_value, p_value, std_err = stats.linregress(bike201912_df_revised.duration_mins, bike201912_df_revised.distance_miles)\r\n",
        "\r\n",
        "print(\"R =\", r_value)\r\n",
        "print(\"P =\", p_value)\r\n",
        "\r\n",
        "# It seems there is a positive correalation with Distance and Duration.  The P value is very small, so distance and duration have influence on each other and move in same direction. "
      ],
      "execution_count": 47,
      "outputs": [
        {
          "output_type": "stream",
          "text": [
            "R = 0.7059612805676017\n",
            "P = 0.0\n"
          ],
          "name": "stdout"
        }
      ]
    },
    {
      "cell_type": "markdown",
      "metadata": {
        "id": "kyKsNSI6smyj"
      },
      "source": [
        "## Conclusion\r\n",
        "\r\n",
        "As we can see from our distrubutions a majority of Citi Bike Customers travel betwen 5-20 minutes and travel between 0.5-2 miles. They seem to follow a log distrubution, and heavily drop off quickly after 20 minutes and 2 miles. Not many people use the Bikes for long distance. \r\n",
        "\r\n",
        "Distance and duration move in the same direction and seem to influence each other, which would make sense. It is not a perfect relationship, as soon from our regression the correalation is strong, but not perfect. Traffic, time of day, etc could make a trip with the same distance longer or shorter. \r\n",
        "\r\n",
        "If we want to target a majority of the customer base with perhaps an incentive program based on how much they use Citi Bike, it would be best to target the customers using the bikes as described in our distributions. There would not be much value added working with programs that deal with long distance use of Citi Bike, since that is a small fraction of the trips taken"
      ]
    },
    {
      "cell_type": "markdown",
      "metadata": {
        "id": "sBp-E1duvjBn"
      },
      "source": [
        "# **When do most people use City Bike?**"
      ]
    },
    {
      "cell_type": "markdown",
      "metadata": {
        "id": "IBHmus4ibTVy"
      },
      "source": [
        "## Feature Engineering (date and time)\n",
        "\n",
        "For analysis we want to extract the hour from the start and stop datetime. Then we use a frequency chart to see when most of Citi Bike customers use their bikes"
      ]
    },
    {
      "cell_type": "code",
      "metadata": {
        "colab": {
          "base_uri": "https://localhost:8080/",
          "height": 612
        },
        "id": "VKPEC5s3bj6q",
        "outputId": "2727ed58-e075-4668-c4c5-a9ef14130e2b"
      },
      "source": [
        "# Change 'starttime' and 'stoptime' data type to 'datetime' for easier data manipulation\n",
        "\n",
        "bike201912_df_revised['starttime'] = pd.to_datetime( bike201912_df_revised['starttime'])\n",
        "bike201912_df_revised['stoptime'] = pd.to_datetime( bike201912_df_revised['stoptime'])\n",
        "\n",
        "# Extract the hour of the day from 'starttime' & 'stoptime' \n",
        "\n",
        "bike201912_df_revised['starttime_new'] = bike201912_df_revised['starttime'].dt.hour\n",
        "bike201912_df_revised['stoptime_new'] = bike201912_df_revised['stoptime'].dt.hour\n",
        "\n",
        "# Eye-ball test with the new features\n",
        "bike201912_df_revised[['starttime','stoptime','starttime_new','stoptime_new']].head()\n"
      ],
      "execution_count": 48,
      "outputs": [
        {
          "output_type": "stream",
          "text": [
            "/usr/local/lib/python3.6/dist-packages/ipykernel_launcher.py:3: SettingWithCopyWarning: \n",
            "A value is trying to be set on a copy of a slice from a DataFrame.\n",
            "Try using .loc[row_indexer,col_indexer] = value instead\n",
            "\n",
            "See the caveats in the documentation: https://pandas.pydata.org/pandas-docs/stable/user_guide/indexing.html#returning-a-view-versus-a-copy\n",
            "  This is separate from the ipykernel package so we can avoid doing imports until\n",
            "/usr/local/lib/python3.6/dist-packages/ipykernel_launcher.py:4: SettingWithCopyWarning: \n",
            "A value is trying to be set on a copy of a slice from a DataFrame.\n",
            "Try using .loc[row_indexer,col_indexer] = value instead\n",
            "\n",
            "See the caveats in the documentation: https://pandas.pydata.org/pandas-docs/stable/user_guide/indexing.html#returning-a-view-versus-a-copy\n",
            "  after removing the cwd from sys.path.\n",
            "/usr/local/lib/python3.6/dist-packages/ipykernel_launcher.py:8: SettingWithCopyWarning: \n",
            "A value is trying to be set on a copy of a slice from a DataFrame.\n",
            "Try using .loc[row_indexer,col_indexer] = value instead\n",
            "\n",
            "See the caveats in the documentation: https://pandas.pydata.org/pandas-docs/stable/user_guide/indexing.html#returning-a-view-versus-a-copy\n",
            "  \n",
            "/usr/local/lib/python3.6/dist-packages/ipykernel_launcher.py:9: SettingWithCopyWarning: \n",
            "A value is trying to be set on a copy of a slice from a DataFrame.\n",
            "Try using .loc[row_indexer,col_indexer] = value instead\n",
            "\n",
            "See the caveats in the documentation: https://pandas.pydata.org/pandas-docs/stable/user_guide/indexing.html#returning-a-view-versus-a-copy\n",
            "  if __name__ == '__main__':\n"
          ],
          "name": "stderr"
        },
        {
          "output_type": "execute_result",
          "data": {
            "text/html": [
              "<div>\n",
              "<style scoped>\n",
              "    .dataframe tbody tr th:only-of-type {\n",
              "        vertical-align: middle;\n",
              "    }\n",
              "\n",
              "    .dataframe tbody tr th {\n",
              "        vertical-align: top;\n",
              "    }\n",
              "\n",
              "    .dataframe thead th {\n",
              "        text-align: right;\n",
              "    }\n",
              "</style>\n",
              "<table border=\"1\" class=\"dataframe\">\n",
              "  <thead>\n",
              "    <tr style=\"text-align: right;\">\n",
              "      <th></th>\n",
              "      <th>starttime</th>\n",
              "      <th>stoptime</th>\n",
              "      <th>starttime_new</th>\n",
              "      <th>stoptime_new</th>\n",
              "    </tr>\n",
              "  </thead>\n",
              "  <tbody>\n",
              "    <tr>\n",
              "      <th>0</th>\n",
              "      <td>2019-12-01 00:00:05.564</td>\n",
              "      <td>2019-12-01 00:10:07.818</td>\n",
              "      <td>0</td>\n",
              "      <td>0</td>\n",
              "    </tr>\n",
              "    <tr>\n",
              "      <th>1</th>\n",
              "      <td>2019-12-01 00:00:10.963</td>\n",
              "      <td>2019-12-01 00:20:17.882</td>\n",
              "      <td>0</td>\n",
              "      <td>0</td>\n",
              "    </tr>\n",
              "    <tr>\n",
              "      <th>2</th>\n",
              "      <td>2019-12-01 00:00:11.818</td>\n",
              "      <td>2019-12-01 00:12:14.831</td>\n",
              "      <td>0</td>\n",
              "      <td>0</td>\n",
              "    </tr>\n",
              "    <tr>\n",
              "      <th>3</th>\n",
              "      <td>2019-12-01 00:00:12.220</td>\n",
              "      <td>2019-12-01 00:06:56.886</td>\n",
              "      <td>0</td>\n",
              "      <td>0</td>\n",
              "    </tr>\n",
              "    <tr>\n",
              "      <th>4</th>\n",
              "      <td>2019-12-01 00:00:14.723</td>\n",
              "      <td>2019-12-01 00:17:54.186</td>\n",
              "      <td>0</td>\n",
              "      <td>0</td>\n",
              "    </tr>\n",
              "  </tbody>\n",
              "</table>\n",
              "</div>"
            ],
            "text/plain": [
              "                starttime                stoptime  starttime_new  stoptime_new\n",
              "0 2019-12-01 00:00:05.564 2019-12-01 00:10:07.818              0             0\n",
              "1 2019-12-01 00:00:10.963 2019-12-01 00:20:17.882              0             0\n",
              "2 2019-12-01 00:00:11.818 2019-12-01 00:12:14.831              0             0\n",
              "3 2019-12-01 00:00:12.220 2019-12-01 00:06:56.886              0             0\n",
              "4 2019-12-01 00:00:14.723 2019-12-01 00:17:54.186              0             0"
            ]
          },
          "metadata": {
            "tags": []
          },
          "execution_count": 48
        }
      ]
    },
    {
      "cell_type": "markdown",
      "metadata": {
        "id": "0Op4-hwhaIEt"
      },
      "source": [
        "## Frequency Chart of Trips Taken\n",
        "\n",
        "Let's explore when are the busiest time for Citi Bike users during the day"
      ]
    },
    {
      "cell_type": "code",
      "metadata": {
        "colab": {
          "base_uri": "https://localhost:8080/",
          "height": 300
        },
        "id": "BnH2oSwFm6yu",
        "outputId": "7ed94af7-6048-432d-aa83-fbbdd9996e12"
      },
      "source": [
        "# Create a plot to show number of bikes used in each hour\n",
        "\n",
        "bike201912_df_revised.groupby('starttime_new').size().plot(kind = 'bar')\n",
        "plt.title('Use of CitiBike during the day')\n",
        "plt.xlabel('Time of the day')\n",
        "plt.xticks(rotation=30)\n",
        "plt.show()\n",
        "\n",
        "# Hours from 7AM-9AM and 4PM-7PM are the busiest time for Citi bike "
      ],
      "execution_count": 49,
      "outputs": [
        {
          "output_type": "display_data",
          "data": {
            "image/png": "[encoded data removed]",
            "text/plain": [
              "<Figure size 432x288 with 1 Axes>"
            ]
          },
          "metadata": {
            "tags": [],
            "needs_background": "light"
          }
        }
      ]
    },
    {
      "cell_type": "markdown",
      "metadata": {
        "id": "hbeLrD7vCStx"
      },
      "source": [
        "## Feature Engineering (weekday/weekend)\n",
        "\n",
        "We want to be able to see if a trip was on a weekday or weekend to see if consumer behavior changes whether its during the work week or on a weekend. We need to create a new feature to label a trip as weekday or weekend."
      ]
    },
    {
      "cell_type": "code",
      "metadata": {
        "colab": {
          "base_uri": "https://localhost:8080/",
          "height": 521
        },
        "id": "d9vwlWAPrm6H",
        "outputId": "adc737b4-cc74-4bf9-c990-74b042a6978e"
      },
      "source": [
        "# Check wether the day is on weekend or weekday. To do that, we use dayofweek function. If dayofweek < 5 -> weekday else weekend\n",
        "bike201912_df_revised['day_of_week'] = np.where(bike201912_df_revised['starttime'].dt.dayofweek < 5, 'weekday','weekend')\n",
        "bike201912_df_revised[['starttime','day_of_week']]\n"
      ],
      "execution_count": 50,
      "outputs": [
        {
          "output_type": "stream",
          "text": [
            "/usr/local/lib/python3.6/dist-packages/ipykernel_launcher.py:2: SettingWithCopyWarning: \n",
            "A value is trying to be set on a copy of a slice from a DataFrame.\n",
            "Try using .loc[row_indexer,col_indexer] = value instead\n",
            "\n",
            "See the caveats in the documentation: https://pandas.pydata.org/pandas-docs/stable/user_guide/indexing.html#returning-a-view-versus-a-copy\n",
            "  \n"
          ],
          "name": "stderr"
        },
        {
          "output_type": "execute_result",
          "data": {
            "text/html": [
              "<div>\n",
              "<style scoped>\n",
              "    .dataframe tbody tr th:only-of-type {\n",
              "        vertical-align: middle;\n",
              "    }\n",
              "\n",
              "    .dataframe tbody tr th {\n",
              "        vertical-align: top;\n",
              "    }\n",
              "\n",
              "    .dataframe thead th {\n",
              "        text-align: right;\n",
              "    }\n",
              "</style>\n",
              "<table border=\"1\" class=\"dataframe\">\n",
              "  <thead>\n",
              "    <tr style=\"text-align: right;\">\n",
              "      <th></th>\n",
              "      <th>starttime</th>\n",
              "      <th>day_of_week</th>\n",
              "    </tr>\n",
              "  </thead>\n",
              "  <tbody>\n",
              "    <tr>\n",
              "      <th>0</th>\n",
              "      <td>2019-12-01 00:00:05.564</td>\n",
              "      <td>weekend</td>\n",
              "    </tr>\n",
              "    <tr>\n",
              "      <th>1</th>\n",
              "      <td>2019-12-01 00:00:10.963</td>\n",
              "      <td>weekend</td>\n",
              "    </tr>\n",
              "    <tr>\n",
              "      <th>2</th>\n",
              "      <td>2019-12-01 00:00:11.818</td>\n",
              "      <td>weekend</td>\n",
              "    </tr>\n",
              "    <tr>\n",
              "      <th>3</th>\n",
              "      <td>2019-12-01 00:00:12.220</td>\n",
              "      <td>weekend</td>\n",
              "    </tr>\n",
              "    <tr>\n",
              "      <th>4</th>\n",
              "      <td>2019-12-01 00:00:14.723</td>\n",
              "      <td>weekend</td>\n",
              "    </tr>\n",
              "    <tr>\n",
              "      <th>...</th>\n",
              "      <td>...</td>\n",
              "      <td>...</td>\n",
              "    </tr>\n",
              "    <tr>\n",
              "      <th>955205</th>\n",
              "      <td>2019-12-31 23:58:18.016</td>\n",
              "      <td>weekday</td>\n",
              "    </tr>\n",
              "    <tr>\n",
              "      <th>955206</th>\n",
              "      <td>2019-12-31 23:58:59.896</td>\n",
              "      <td>weekday</td>\n",
              "    </tr>\n",
              "    <tr>\n",
              "      <th>955207</th>\n",
              "      <td>2019-12-31 23:59:03.695</td>\n",
              "      <td>weekday</td>\n",
              "    </tr>\n",
              "    <tr>\n",
              "      <th>955208</th>\n",
              "      <td>2019-12-31 23:59:21.361</td>\n",
              "      <td>weekday</td>\n",
              "    </tr>\n",
              "    <tr>\n",
              "      <th>955209</th>\n",
              "      <td>2019-12-31 23:59:55.296</td>\n",
              "      <td>weekday</td>\n",
              "    </tr>\n",
              "  </tbody>\n",
              "</table>\n",
              "<p>950139 rows × 2 columns</p>\n",
              "</div>"
            ],
            "text/plain": [
              "                     starttime day_of_week\n",
              "0      2019-12-01 00:00:05.564     weekend\n",
              "1      2019-12-01 00:00:10.963     weekend\n",
              "2      2019-12-01 00:00:11.818     weekend\n",
              "3      2019-12-01 00:00:12.220     weekend\n",
              "4      2019-12-01 00:00:14.723     weekend\n",
              "...                        ...         ...\n",
              "955205 2019-12-31 23:58:18.016     weekday\n",
              "955206 2019-12-31 23:58:59.896     weekday\n",
              "955207 2019-12-31 23:59:03.695     weekday\n",
              "955208 2019-12-31 23:59:21.361     weekday\n",
              "955209 2019-12-31 23:59:55.296     weekday\n",
              "\n",
              "[950139 rows x 2 columns]"
            ]
          },
          "metadata": {
            "tags": []
          },
          "execution_count": 50
        }
      ]
    },
    {
      "cell_type": "markdown",
      "metadata": {
        "id": "HYK6DlZdaqco"
      },
      "source": [
        "## Frequency Chart of weekdays vs weekends\n",
        "\n",
        "We can place two histograms in one chart to visualize how Citi Bike is being used on weekdays vs weekends "
      ]
    },
    {
      "cell_type": "code",
      "metadata": {
        "colab": {
          "base_uri": "https://localhost:8080/",
          "height": 300
        },
        "id": "GEYzvzrRV95N",
        "outputId": "e2a78f76-402a-4f14-897d-3cc71ab9f848"
      },
      "source": [
        "# Plot to see the use of Citi bike during weekdays and weekends. \n",
        "\n",
        "bike201912_df_revised.groupby(['starttime_new','day_of_week']).size().unstack().plot(kind = 'bar')\n",
        "plt.title('Use of CitiBike during the day (weekend and weekday)')\n",
        "plt.xlabel('Time of the day')\n",
        "plt.xticks(rotation=30)\n",
        "plt.show()\n",
        "\n",
        "# Clearly, on weekends, there are less trips. The peak hours on the weekend are also different. It seems there is no rush hour traffic on weekends"
      ],
      "execution_count": 51,
      "outputs": [
        {
          "output_type": "display_data",
          "data": {
            "image/png": "[encoded data removed]",
            "text/plain": [
              "<Figure size 432x288 with 1 Axes>"
            ]
          },
          "metadata": {
            "tags": [],
            "needs_background": "light"
          }
        }
      ]
    },
    {
      "cell_type": "markdown",
      "metadata": {
        "id": "S3UTeFmbydr7"
      },
      "source": [
        "## Average Trips per Day (Weekend vs Weekday)"
      ]
    },
    {
      "cell_type": "code",
      "metadata": {
        "colab": {
          "base_uri": "https://localhost:8080/"
        },
        "id": "J6a7W3l0xQmz",
        "outputId": "9c4aa7cd-c240-4f00-ae2c-065a3e5d827a"
      },
      "source": [
        "# Lets see how may average trips per day are on weekdays compared to weekends\r\n",
        "\r\n",
        "print(\"Average Trips per Day on a Weekday: \", len(bike201912_df_revised[bike201912_df_revised['day_of_week'] == 'weekday']['day_of_week']) / 5)\r\n",
        "print(\"Average Trips per Day on a Weekend: \", len(bike201912_df_revised[bike201912_df_revised['day_of_week'] == 'weekend']['day_of_week']) / 2)"
      ],
      "execution_count": 52,
      "outputs": [
        {
          "output_type": "stream",
          "text": [
            "Average Trips per Day on a Weekday:  143168.6\n",
            "Average Trips per Day on a Weekend:  117148.0\n"
          ],
          "name": "stdout"
        }
      ]
    },
    {
      "cell_type": "markdown",
      "metadata": {
        "id": "AOEnXQiov62e"
      },
      "source": [
        "## Conclusion \r\n",
        "\r\n",
        "- Most people use Citi Bike during the daytime. During typical rush hours, there is a spike of Citi Bike usage. If we wanted to improve Citi Bike, it would be best to concentrate on these hours to see if quality of service holds up during busy commute times\r\n",
        "\r\n",
        "- Weekdays are busier for Citi Bike than Weekends. As we thought before, people use Citi Bike different on Weekday than Weekends. On weekends most people use Citi Bike around Lunch time or mid afternoon. On weekdays most people use the service during rush hour"
      ]
    },
    {
      "cell_type": "markdown",
      "metadata": {
        "id": "h1Jcr2OOV-XA"
      },
      "source": [
        "# Do Trips take longer during rush hour?\r\n",
        "\r\n",
        "If Citi Bike wants to improve their service, it may be worth looking at whether during high usage time, quality of service goes down. Let us split up the data between rush hour and non rush hour and see how our data changes"
      ]
    },
    {
      "cell_type": "markdown",
      "metadata": {
        "id": "SzqBS1d7YmLE"
      },
      "source": [
        "## Dataset Slicing\r\n",
        "\r\n",
        "First we need to slice our dataset and extract the rush hour trips from the rest of the data"
      ]
    },
    {
      "cell_type": "code",
      "metadata": {
        "id": "KejJ0f4sYsTM"
      },
      "source": [
        "# Slice out weekends\r\n",
        "\r\n",
        "rushhour_df = bike201912_df_revised[bike201912_df_revised['day_of_week'] == 'weekday']\r\n",
        "non_rushhour_df = bike201912_df_revised[bike201912_df_revised['day_of_week'] == 'weekday']\r\n",
        "\r\n",
        "# Slice out times not in rush hour \r\n",
        "\r\n",
        "rushhour_df = rushhour_df[ ((rushhour_df['starttime_new'] > 7) & (rushhour_df['starttime_new'] < 10)) | ((rushhour_df['starttime_new'] > 16) & (rushhour_df['starttime_new'] < 19)) ]\r\n",
        "non_rushhour_df = non_rushhour_df[ ((non_rushhour_df['starttime_new'] < 8) | (non_rushhour_df['starttime_new'] > 9)) & ((non_rushhour_df['starttime_new'] < 17) | (non_rushhour_df['starttime_new'] > 18)) ]"
      ],
      "execution_count": 75,
      "outputs": []
    },
    {
      "cell_type": "code",
      "metadata": {
        "colab": {
          "base_uri": "https://localhost:8080/"
        },
        "id": "RG775j69ivis",
        "outputId": "21eb48c5-2391-4661-974b-e2d8ff0018eb"
      },
      "source": [
        "# Eyeball test our df has correct values\r\n",
        "\r\n",
        "non_rushhour_df['starttime_new'].unique()"
      ],
      "execution_count": 77,
      "outputs": [
        {
          "output_type": "execute_result",
          "data": {
            "text/plain": [
              "array([ 0,  1,  2,  3,  4,  5,  6,  7, 10, 11, 12, 13, 14, 15, 16, 19, 20,\n",
              "       21, 22, 23])"
            ]
          },
          "metadata": {
            "tags": []
          },
          "execution_count": 77
        }
      ]
    },
    {
      "cell_type": "markdown",
      "metadata": {
        "id": "Wms9L7pDfwQs"
      },
      "source": [
        "## Pivot Table comparison"
      ]
    },
    {
      "cell_type": "code",
      "metadata": {
        "colab": {
          "base_uri": "https://localhost:8080/"
        },
        "id": "N0y4eoz9cyUF",
        "outputId": "a8b16430-1781-4b75-fa4a-0767ca7b4e54"
      },
      "source": [
        "# Let us quick compare mean rush hour distance and duration with overall distance and duration during the weekday\r\n",
        "\r\n",
        "import numpy as np\r\n",
        "\r\n",
        "\r\n",
        "print(rushhour_df.groupby(\"day_of_week\").agg({'duration_mins': np.mean, 'distance_miles': np.mean}))\r\n",
        "\r\n",
        "print(non_rushhour_df.groupby(\"day_of_week\").agg({'duration_mins': np.mean, 'distance_miles': np.mean}))\r\n",
        "\r\n",
        "# It seems there is slight different of duration of trips during rush hour compared to not rush hour. Perhaps rush hour doest effect "
      ],
      "execution_count": 76,
      "outputs": [
        {
          "output_type": "stream",
          "text": [
            "             duration_mins  distance_miles\n",
            "day_of_week                               \n",
            "weekday          11.113324        1.047255\n",
            "             duration_mins  distance_miles\n",
            "day_of_week                               \n",
            "weekday          10.871586        0.937155\n"
          ],
          "name": "stdout"
        }
      ]
    },
    {
      "cell_type": "markdown",
      "metadata": {
        "id": "ilqV1Bj6gpkF"
      },
      "source": [
        "## Linear Regression of Rush Hour and Non Rush Hour dataset"
      ]
    },
    {
      "cell_type": "code",
      "metadata": {
        "colab": {
          "base_uri": "https://localhost:8080/",
          "height": 294
        },
        "id": "JbAtOq0Ff1Xi",
        "outputId": "33916900-9d78-463f-c021-b3e9e9f8091e"
      },
      "source": [
        "# Lets run a scatter plot again to see if there is a difference. For this we will stack two scatterplots\r\n",
        "# On top of each other and the trendline(regression) slope can show us if there is a difference. \r\n",
        "\r\n",
        "from matplotlib import pyplot as plt\r\n",
        "\r\n",
        "fig, axs = plt.subplots(2)\r\n",
        "fig.suptitle('Rush Hour vs Non Rush Hour')\r\n",
        "\r\n",
        "axs[0].plot(rushhour_df.duration_mins, rushhour_df.distance_miles, 'o')\r\n",
        "m, b = np.polyfit(rushhour_df.duration_mins, rushhour_df.distance_miles, 1) \r\n",
        "axs[0].plot(rushhour_df.duration_mins, m*rushhour_df.duration_mins+b)\r\n",
        "\r\n",
        "axs[1].plot(non_rushhour_df.duration_mins, non_rushhour_df.distance_miles, 'o')\r\n",
        "m, b = np.polyfit(non_rushhour_df.duration_mins, non_rushhour_df.distance_miles, 1) \r\n",
        "axs[1].plot(non_rushhour_df.duration_mins, m*non_rushhour_df.duration_mins+b)\r\n",
        "\r\n",
        "plt.show()"
      ],
      "execution_count": 83,
      "outputs": [
        {
          "output_type": "display_data",
          "data": {
            "image/png": "[encoded data removed]",
            "text/plain": [
              "<Figure size 432x288 with 2 Axes>"
            ]
          },
          "metadata": {
            "tags": [],
            "needs_background": "light"
          }
        }
      ]
    },
    {
      "cell_type": "code",
      "metadata": {
        "colab": {
          "base_uri": "https://localhost:8080/"
        },
        "id": "8e_SLt_Qgb96",
        "outputId": "7d37c26c-7c59-476a-847f-3059044f2e16"
      },
      "source": [
        "from scipy import stats\r\n",
        "\r\n",
        "slope, intercept, r_value, p_value, std_err = stats.linregress(rushhour_df.duration_mins, rushhour_df.distance_miles)\r\n",
        "\r\n",
        "print(\"Rush Hour\")\r\n",
        "print(\"R =\", r_value)\r\n",
        "print(\"P =\", p_value)\r\n",
        "\r\n",
        "slope, intercept, r_value, p_value, std_err = stats.linregress(non_rushhour_df.duration_mins, non_rushhour_df.distance_miles)\r\n",
        "\r\n",
        "print(\"Non Rush Hour\")\r\n",
        "print(\"R =\", r_value)\r\n",
        "print(\"P =\", p_value)"
      ],
      "execution_count": 86,
      "outputs": [
        {
          "output_type": "stream",
          "text": [
            "Rush Hour\n",
            "R = 0.8046339428089558\n",
            "P = 0.0\n",
            "Non Rush Hour\n",
            "R = 0.6859209203177227\n",
            "P = 0.0\n"
          ],
          "name": "stdout"
        }
      ]
    },
    {
      "cell_type": "markdown",
      "metadata": {
        "id": "Rz-NA838goJg"
      },
      "source": [
        ""
      ]
    },
    {
      "cell_type": "markdown",
      "metadata": {
        "id": "UBBJUqQVgu44"
      },
      "source": [
        "## Conclusion\r\n",
        "\r\n",
        "During rush hour, the R value is higher, which means distance has more of an influence of duration. This could be caused by citi bike users not being able to go as fast as they want during traffic. So distance will be more of an indicator on how long a trip will take. \r\n",
        "\r\n",
        "For non rush hour, perhaps users are more free to ride as fast as the want to, so distance has influence, but less than that we see during rush hour. \r\n",
        "\r\n",
        "If Citi Bike wants to improve quality of service, they should investigate further on what causes increased trip duration vs distance during rush hour. Perhaps bike lanes should be improved, or stations should be more strategically placed. "
      ]
    },
    {
      "cell_type": "markdown",
      "metadata": {
        "id": "596xkwOTMjJf"
      },
      "source": [
        "# What neighborhoods attract the most customers in NYC? \r\n",
        "\r\n",
        "To answer this question, we're going to assign a neighborhood to each bike station so we can do some analysis on which neighborhoods are the busiest for Citi Bike and so we can visualize the trips the users take. For this we will use a GeoPandas python library to figure out which neighborhood each station is in based on the provided longitude and latitude data"
      ]
    },
    {
      "cell_type": "markdown",
      "metadata": {
        "id": "NLabuRUgxnhk"
      },
      "source": [
        "## Feature Engineering (Neighborhood)"
      ]
    },
    {
      "cell_type": "code",
      "metadata": {
        "id": "WOyUgMXXLYaX"
      },
      "source": [
        "# Load NYC neighborhoods GeoJson data\n",
        "\n",
        "nbhoods = gpd.read_file(\n",
        "\"https://data.beta.nyc/dataset/0ff93d2d-90ba-457c-9f7e-39e47bf2ac5f/resource/35dd04fb-81b3-479b-a074-a27a37888ce7/download/d085e2f8d0b54d4590b1e7d1f35594c1pediacitiesnycneighborhoods.geojson\")\n",
        "nbhoods.head()"
      ],
      "execution_count": null,
      "outputs": []
    },
    {
      "cell_type": "code",
      "metadata": {
        "id": "xiVVwEPMYLyI"
      },
      "source": [
        "# Plot the neighborhoods based on the boroughs \n",
        "\n",
        "fig, ax = plt.subplots(figsize=(15,12))\n",
        "nbhoods.plot(\"borough\", ax=ax, legend=True);"
      ],
      "execution_count": null,
      "outputs": []
    },
    {
      "cell_type": "markdown",
      "metadata": {
        "id": "ZcwXoYmzpjfl"
      },
      "source": [
        "### Do CitiBike trips start and end at the same locations?\n"
      ]
    },
    {
      "cell_type": "code",
      "metadata": {
        "id": "ZIx1A5xEphxS"
      },
      "source": [
        "#number of trips that started and ended at same station\n",
        "\n",
        "start_end_same = bike201912_df_revised[bike201912_df_revised['start station name'] == bike201912_df_revised['end station name']].shape[0]\n",
        "\n",
        "#number of trips that started and ended at different station\n",
        "\n",
        "start_end_diff = bike201912_df_revised.shape[0]-start_end_same\n",
        "plt.pie([start_end_same,start_end_diff],\n",
        "        labels=['Same',\n",
        "        'Different'],\n",
        "        autopct='%1.2f%%',\n",
        "        textprops={'fontsize': 15})\n",
        "plt.title('Same start and end location vs Different start and end location', fontsize=20)\n",
        "plt.show()"
      ],
      "execution_count": null,
      "outputs": []
    },
    {
      "cell_type": "markdown",
      "metadata": {
        "id": "recjp1CsqIDj"
      },
      "source": [
        "Since the majority of trips start and end in different locations, we will analyze the data in this section based on both start and end locations to see where the users are going from and to."
      ]
    },
    {
      "cell_type": "markdown",
      "metadata": {
        "id": "aPWDVNDNo-vy"
      },
      "source": [
        "### Process bike data using start station location"
      ]
    },
    {
      "cell_type": "code",
      "metadata": {
        "id": "KU4xDTMuQCpi"
      },
      "source": [
        "# Convert bike201912_df_revised to a GeoDataFrame using 'start station longitude' and 'start station latitude' so that later we can show boro and neighborhood names\n",
        "\n",
        "bike201912_df_revised_gdf = gpd.GeoDataFrame(bike201912_df_revised,crs=('EPSG:4326'), \n",
        "                                             geometry=gpd.points_from_xy(bike201912_df_revised['start station longitude'], bike201912_df_revised['start station latitude']))\n",
        "bike201912_df_revised_gdf.head()\n",
        "\n",
        "# As we can see, now the geometry column with coordinate points is added to the df"
      ],
      "execution_count": null,
      "outputs": []
    },
    {
      "cell_type": "code",
      "metadata": {
        "id": "2lc7_0uoYUUn"
      },
      "source": [
        "# We want to make sure the CRS (Coordinate Reference System) matches between the nbhoods and bike201912_df_revised_gdf dataframes before joining them\n",
        "\n",
        "assert(nbhoods.crs == bike201912_df_revised_gdf.crs)"
      ],
      "execution_count": null,
      "outputs": []
    },
    {
      "cell_type": "code",
      "metadata": {
        "id": "aER0fUADQjPD"
      },
      "source": [
        "# We want to see the neighborhoods in our bike201912_df_revised_gdf so we are going to join bike201912_df_revised_gdf and nbhoods based on the locations using spatial join in geopandas\n",
        "\n",
        "sjoined_nbhoods = gpd.sjoin(bike201912_df_revised_gdf,nbhoods, op='within').reset_index(drop=True)\n",
        "sjoined_nbhoods.head()"
      ],
      "execution_count": null,
      "outputs": []
    },
    {
      "cell_type": "code",
      "metadata": {
        "id": "N7G_Qa7dO73q"
      },
      "source": [
        "# Let's drop some columns to make the df look cleaner\r\n",
        "\r\n",
        "sjoined_nbhoods = sjoined_nbhoods.drop(columns=['index_right','boroughCode','@id'])\r\n",
        "sjoined_nbhoods.head()"
      ],
      "execution_count": null,
      "outputs": []
    },
    {
      "cell_type": "code",
      "metadata": {
        "id": "cKr6BvCVjOZD"
      },
      "source": [
        "# Create a new df to count values of neighborhood\n",
        "\n",
        "grouped = sjoined_nbhoods['neighborhood'].value_counts()\n",
        "nbh_df = grouped.reset_index()\n",
        "nbh_df.columns = ['neighborhood','neighborhood_counts']\n",
        "nbh_df.head()"
      ],
      "execution_count": null,
      "outputs": []
    },
    {
      "cell_type": "code",
      "metadata": {
        "id": "dDNs001Fl2l0"
      },
      "source": [
        "# Merge the new df back to sjoined_nbhoods \n",
        "\n",
        "bikedata_withcounts = sjoined_nbhoods.merge(nbh_df, on='neighborhood', how='outer')\n",
        "bikedata_withcounts.head()"
      ],
      "execution_count": null,
      "outputs": []
    },
    {
      "cell_type": "code",
      "metadata": {
        "id": "3Uhsp5uXmOgN"
      },
      "source": [
        "# Check if the 2 dfs have the same amount of rows\r\n",
        "assert(bikedata_withcounts.shape[0] == sjoined_nbhoods.shape[0])"
      ],
      "execution_count": null,
      "outputs": []
    },
    {
      "cell_type": "markdown",
      "metadata": {
        "id": "96GiS0fLSdl0"
      },
      "source": [
        "So now we are done with data processing using start station, the df with neighborhood counts based on start stations is called 'bikedata_withcounts'. We're going to process data for end stations in following code blocks."
      ]
    },
    {
      "cell_type": "markdown",
      "metadata": {
        "id": "MK6Q5L0GpOIo"
      },
      "source": [
        "### Process bike data using end station location"
      ]
    },
    {
      "cell_type": "code",
      "metadata": {
        "id": "Y_KylUn6nTWh"
      },
      "source": [
        "# Convert bike201912_df_revised to a GeoDataFrame using 'end station longitude' and 'end station latitude'\n",
        "\n",
        "bike201912_df_revised_gdf1 = gpd.GeoDataFrame(bike201912_df_revised,crs=('EPSG:4326'), \n",
        "                                              geometry=gpd.points_from_xy(bike201912_df_revised['end station longitude'], bike201912_df_revised['end station latitude']))\n",
        "bike201912_df_revised_gdf1.head()"
      ],
      "execution_count": null,
      "outputs": []
    },
    {
      "cell_type": "code",
      "metadata": {
        "id": "rPfXjvdeygev"
      },
      "source": [
        "# Check if the CRS for nbhoods and bike201912_df_revised_gdf1 are similar before joining\r\n",
        "\r\n",
        "assert(nbhoods.crs == bike201912_df_revised_gdf1.crs)"
      ],
      "execution_count": null,
      "outputs": []
    },
    {
      "cell_type": "code",
      "metadata": {
        "id": "bJq9OG1pn4V8"
      },
      "source": [
        "# Join bike201912_df_revised_gdf1 and nbhoods based on the locations using spatial join in geopandas\n",
        "\n",
        "sjoined_nbhoods1 = gpd.sjoin(bike201912_df_revised_gdf1,nbhoods, op='within').reset_index(drop=True)\n",
        "sjoined_nbhoods1.head()"
      ],
      "execution_count": null,
      "outputs": []
    },
    {
      "cell_type": "code",
      "metadata": {
        "id": "VcHvz5n-THzA"
      },
      "source": [
        "# Let's drop some columns to make the df look cleaner\r\n",
        "\r\n",
        "sjoined_nbhoods1 = sjoined_nbhoods1.drop(columns=['index_right','boroughCode','@id'])\r\n",
        "sjoined_nbhoods1.head()"
      ],
      "execution_count": null,
      "outputs": []
    },
    {
      "cell_type": "code",
      "metadata": {
        "id": "DC6Ze3xRoCBr"
      },
      "source": [
        "# create a new df to count values of neighborhood\n",
        "\n",
        "grouped1 = sjoined_nbhoods1['neighborhood'].value_counts()\n",
        "nbh_df1 = grouped1.reset_index()\n",
        "nbh_df1.columns = ['neighborhood','neighborhood_counts']\n",
        "nbh_df1.head()"
      ],
      "execution_count": null,
      "outputs": []
    },
    {
      "cell_type": "code",
      "metadata": {
        "id": "VDsxKITsoGhG"
      },
      "source": [
        "# merge the new df back to sjoined_nbhoods \n",
        "\n",
        "bikedata_withcounts1 = sjoined_nbhoods1.merge(nbh_df1, on='neighborhood', how='outer')\n",
        "bikedata_withcounts1.head()"
      ],
      "execution_count": null,
      "outputs": []
    },
    {
      "cell_type": "code",
      "metadata": {
        "id": "PrZEL2E7rbiP"
      },
      "source": [
        "# Check if the 2 dfs have the same amount of rows\r\n",
        "\r\n",
        "assert(bikedata_withcounts1.shape[0] == sjoined_nbhoods.shape[0])"
      ],
      "execution_count": null,
      "outputs": []
    },
    {
      "cell_type": "markdown",
      "metadata": {
        "id": "mnY4K1AIrlpb"
      },
      "source": [
        "We are done processing data using end station, the df with neighborhood counts based on end stations is called 'bikedata_withcounts1'"
      ]
    },
    {
      "cell_type": "markdown",
      "metadata": {
        "id": "M9jaA2d8dJq5"
      },
      "source": [
        "## What are the busiest neighborhoods in Manhattan for Citi Bike? \n",
        "\n",
        "For Citi Bike to see which neighborhoods account for the most Citi Bike trips we can create a heat map showing where most Citi Bike trips originate from and stop at by station and neighborhood"
      ]
    },
    {
      "cell_type": "markdown",
      "metadata": {
        "id": "INm4yLXBpTeK"
      },
      "source": [
        "### What boroughs are CitiBike available?\r\n",
        "Let's first see what boroughs CitiBike are avaiable"
      ]
    },
    {
      "cell_type": "code",
      "metadata": {
        "id": "24TRXm9ZI2O5"
      },
      "source": [
        "# Plot CitiBike use in NYC Boroughs\n",
        "fig, (ax1, ax2) = plt.subplots(ncols=2,figsize=(20,15))\n",
        "\n",
        "bikedata_withcounts.plot(\"borough\", cmap='plasma_r',ax=ax1, legend=True)\n",
        "ax1.set_title('CitiBike Start Locations by NYC Boroughs')\n",
        "\n",
        "bikedata_withcounts1.plot(\"borough\", cmap='plasma_r',ax=ax2, legend=True)\n",
        "ax2.set_title('CitiBike End Locations by NYC Boroughs')\n"
      ],
      "execution_count": null,
      "outputs": []
    },
    {
      "cell_type": "markdown",
      "metadata": {
        "id": "OnYlcnz9SsV1"
      },
      "source": [
        "As Citibike were available in Brooklyn, Manhattan and Queens by December 2019, our data also shows the 3 boroughs. We're going to set active neighborhoods in these 3 boroughs in the following code block."
      ]
    },
    {
      "cell_type": "code",
      "metadata": {
        "id": "OSChJwUyKsqi"
      },
      "source": [
        "# Create a new neighborhood df with active boroughs\n",
        "active_nbhoods = ['Brooklyn','Manhattan','Queens']\n",
        "\n",
        "nbhoods_new = nbhoods[nbhoods['borough'].isin(active_nbhoods)]\n",
        "nbhoods_new.head()"
      ],
      "execution_count": null,
      "outputs": []
    },
    {
      "cell_type": "markdown",
      "metadata": {
        "id": "hhpZ4QR1RjMe"
      },
      "source": [
        "### What neighborhoods in NYC does Citibike have high amount of users?\r\n",
        "We're going to plot a map based on the Citibike use in each neighborhood. "
      ]
    },
    {
      "cell_type": "code",
      "metadata": {
        "id": "sn2o2_w53Mnt"
      },
      "source": [
        "fig,(ax1, ax2) = plt.subplots(ncols=2,figsize=(20,15))\n",
        "\n",
        "base1 = nbhoods_new.plot(color='white', edgecolor='grey', ax=ax1)\n",
        "base2 = nbhoods_new.plot(color='white', edgecolor='grey', ax=ax2)\n",
        "\n",
        "bikedata_withcounts.plot(column='neighborhood_counts', cmap ='plasma_r', ax=base1, legend=True)\n",
        "ax1.set_title(\"CitiBike Start Locations by NYC Neighborhoods\")\n",
        "\n",
        "bikedata_withcounts1.plot(column='neighborhood_counts', cmap ='plasma_r', ax=base2, legend=True)\n",
        "ax2.set_title(\"CitiBike End Locations by NYC Neighborhoods\")\n",
        "\n",
        "plt.show()"
      ],
      "execution_count": null,
      "outputs": []
    },
    {
      "cell_type": "markdown",
      "metadata": {
        "id": "bE9EHuEga7JP"
      },
      "source": [
        "The darker the color, the busier the neighborhood is. The neighborhood's busyness are pretty much similar between start and end locations. "
      ]
    },
    {
      "cell_type": "markdown",
      "metadata": {
        "id": "cRZUldVWR9zT"
      },
      "source": [
        "### Let's look in details the popular neighborhoods for start and end locations"
      ]
    },
    {
      "cell_type": "code",
      "metadata": {
        "id": "NdvKgyEJS_WX"
      },
      "source": [
        "#Get top 20 stations \n",
        "top_start_station = nbh_df[:11]\n",
        "top_end_station = nbh_df1[:11]\n",
        "\n",
        "\n",
        "fig, (ax1,ax2)=plt.subplots(ncols=2,figsize=(20,15))\n",
        "ax1.bar(x=top_start_station['neighborhood'], height=top_start_station['neighborhood_counts'], color='#70eb67', width=0.5)\n",
        "ax2.bar(x=top_end_station['neighborhood'], height=top_end_station['neighborhood_counts'], color='#edde68', width=0.5)\n",
        "\n",
        "#adding value above each bar:Annotation\n",
        "for p in ax1.patches:\n",
        "    an1 = ax1.annotate(format(p.get_height(), '.2f'), \n",
        "                   (p.get_x() + p.get_width() / 2., p.get_height()), \n",
        "                   ha = 'center',\n",
        "                   va = 'center', \n",
        "                   xytext = (0, 10), \n",
        "                   textcoords = 'offset points')\n",
        "    an1.set_size(10)\n",
        "\n",
        "for p in ax2.patches:\n",
        "    an2 = ax2.annotate(format(p.get_height(), '.2f'), \n",
        "                   (p.get_x() + p.get_width() / 2., p.get_height()), \n",
        "                   ha = 'center',\n",
        "                   va = 'center', \n",
        "                   xytext = (0, 10), \n",
        "                   textcoords = 'offset points')\n",
        "    an2.set_size(10)\n",
        "\n",
        "\n",
        "ax1.set_title(\"Top 20 start locations in NY\",fontsize=30)\n",
        "ax1.set_xlabel(\"Start Station name\",fontsize=20)\n",
        "\n",
        "ax2.set_title(\"Top 20 end locations in NY\",fontsize=30)\n",
        "ax2.set_xlabel(\"End Station name\",fontsize=20)\n",
        "\n",
        "\n",
        "#rotating the x tick labels to 45 degrees\n",
        "ax1.set_xticklabels(top_start_station['neighborhood'], rotation = 45, ha=\"right\")\n",
        "ax1.set_ylabel(\"Count\",fontsize=20)\n",
        "\n",
        "ax2.set_xticklabels(top_end_station['neighborhood'], rotation = 45, ha=\"right\")\n",
        "ax2.set_ylabel(\"Count\",fontsize=20)\n",
        "\n",
        "#tweeking x and y tick labels \n",
        "ax1.tick_params(labelsize=15)\n",
        "ax2.tick_params(labelsize=15)\n"
      ],
      "execution_count": null,
      "outputs": []
    },
    {
      "cell_type": "markdown",
      "metadata": {
        "id": "7-tksTJ1XFbx"
      },
      "source": [
        "##Conclusion\r\n",
        "- There are a high volumn of trips at Chelsea stations, close to 100,000 trip a month. Followed by Midtown and East Village stations, with aroud 90,000 and 70,000 trips respectively. \r\n",
        "- CitiBike can roll out incentive programs to make sure these neighborhood always have enough bikes for customers, especially during rush hours during weekdays. \r\n",
        " - Incentive programs could be customers would earn rewards for returning bikes in the busy neightborhoods prior to and during the rush hours. Or the customers would earn rewards for bringing bikes from a full station to an empty one in one of the busy neighborhoods\r\n",
        "- For CitiBike customers, always check the availability of bikes in the busy neighborhoods before heading to the station. Take advantage of the incentive programs from CitiBike to earn more rewards for future free rides. And if you can, avoid these neighborhood during rush hours. "
      ]
    },
    {
      "cell_type": "markdown",
      "metadata": {
        "id": "rSosdYSawpwc"
      },
      "source": [
        "# Who are CitiBike Customers? \r\n",
        "\r\n",
        "Now let us discover who Citibike customers are and what do they have in common?"
      ]
    },
    {
      "cell_type": "markdown",
      "metadata": {
        "id": "UqYYULangBfj"
      },
      "source": [
        "## Subscribers or Customers?\r\n",
        "CitiBike has 2 type of users: **Customers** are the users who purchase 24-hour pass or 3-day pass and **Subscribers** are the annual member."
      ]
    },
    {
      "cell_type": "code",
      "metadata": {
        "id": "XWEm7F4Dm9jQ"
      },
      "source": [
        "# Plot a pie chart to show the ratio of users\n",
        "user_type = bikedata_withcounts['usertype'].value_counts()\n",
        "plt.pie(user_type.values,\n",
        "        labels = user_type.index,\n",
        "        autopct = '%1.2f%%',\n",
        "        textprops={'fontsize': 15})\n",
        "plt.title('Subscribers vs. Customers', fontsize=20)\n",
        "plt.show()"
      ],
      "execution_count": null,
      "outputs": []
    },
    {
      "cell_type": "markdown",
      "metadata": {
        "id": "x9vjq91tgI7K"
      },
      "source": [
        "## How old are they?\r\n"
      ]
    },
    {
      "cell_type": "markdown",
      "metadata": {
        "id": "1ZKBcrlt85hy"
      },
      "source": [
        "### Feature Engineering\r\n",
        "We will discover how old the users are and will group them in a new age group based on generation. "
      ]
    },
    {
      "cell_type": "code",
      "metadata": {
        "id": "Ahckk3yfbzTw"
      },
      "source": [
        "# See what are the user' birth year \n",
        "birth_year = bikedata_withcounts['birth year'].unique()\n",
        "birth_year.sort()\n",
        "birth_year"
      ],
      "execution_count": null,
      "outputs": []
    },
    {
      "cell_type": "markdown",
      "metadata": {
        "id": "LspcR9vO9cNh"
      },
      "source": [
        "It doesn't look right that someone was born in the 1800s was still alive, let alone riding the bike! For this analysis, we are going to assume users who were born earlier than 1945 (older than 75 years old) do not ride the bike, due to health and weather condition. Hence, we will assume birth years that are smaller than 1945 are bad data. We're going to use this [article](https://www.pewresearch.org/fact-tank/2019/01/17/where-millennials-end-and-generation-z-begins/) as a resource to group the generation based on birth years in the following:"
      ]
    },
    {
      "cell_type": "markdown",
      "metadata": {
        "id": "Pr9iIM0FjFIn"
      },
      "source": [
        "```python\n",
        "if birth year < 1945: print('Bad data (>75yo)')\n",
        "elif 1946 < birth year < 1964: print('Baby Boomer (56-74yo)')\n",
        "elif 1965 < birth year < 1980: print('Gen X (40-55yo)')\n",
        "elif 1981 < birth year < 1996: print('Millennials (24-39yo)')\n",
        "else: print('Gen Z (17-23)')\n",
        "```"
      ]
    },
    {
      "cell_type": "code",
      "metadata": {
        "id": "K6JyOvr-aFzK"
      },
      "source": [
        "# create a new age group\n",
        "bikedata_withcounts['gen'] = pd.cut(bikedata_withcounts['birth year'],[1885,1946,1964,1980,1996,2003],\n",
        "                                     labels=['Bad data (>75)', 'Boomer (56-74)', 'Gen X (40-55)', 'Millennials (24-39)', 'Gen Z(17-23)'])\n",
        "bikedata_withcounts[['gen','birth year']].head()\n",
        "                                     "
      ],
      "execution_count": null,
      "outputs": []
    },
    {
      "cell_type": "markdown",
      "metadata": {
        "id": "la49q7GnNL5E"
      },
      "source": [
        "###Plot"
      ]
    },
    {
      "cell_type": "code",
      "metadata": {
        "id": "F0mz8p92UvJ4"
      },
      "source": [
        "# historgram of age group\n",
        "plt.subplots(figsize=(8,6))\n",
        "bikedata_withcounts['gen'].value_counts().plot(kind = 'bar', rot = 45)\n",
        "plt.ylabel(\"Frequency\")\n",
        "plt.title('Distribution of CitiBike Use in Each Age Group')\n",
        "plt.xlabel('Age Group')\n",
        "plt.show()"
      ],
      "execution_count": null,
      "outputs": []
    },
    {
      "cell_type": "markdown",
      "metadata": {
        "id": "B6e6qnCVwcpz"
      },
      "source": [
        "The plot shows that millenials from 24 to 39 years old are the top CitiBike users, follwoing by Gen X (40-55 years old)."
      ]
    },
    {
      "cell_type": "code",
      "metadata": {
        "id": "oG7cE1z_UeCP"
      },
      "source": [
        "# Average trip duration per age group \n",
        "\n",
        "avg_tripdur = bikedata_withcounts.groupby('gen').agg({'duration_mins':'mean'}).sort_values(by='duration_mins', ascending=False)\n",
        "avg_tripdur"
      ],
      "execution_count": null,
      "outputs": []
    },
    {
      "cell_type": "code",
      "metadata": {
        "id": "a4XS8AZs2x0a"
      },
      "source": [
        "# Plot it\r\n",
        "avg_tripdur.plot(kind='bar', legend = None, rot = 45)\r\n",
        "plt.ylabel(\"Frequency\")\r\n",
        "plt.title('Distribution of Trip Duration in Each Age Group')\r\n",
        "plt.xlabel('Age Group')\r\n",
        "plt.rcParams[\"figure.figsize\"] = [10,8]\r\n",
        "plt.show()"
      ],
      "execution_count": null,
      "outputs": []
    },
    {
      "cell_type": "code",
      "metadata": {
        "id": "6Io4wHZEmeAj"
      },
      "source": [
        "# Average distance miles per generation\n",
        "\n",
        "avg_dist = bikedata_withcounts.groupby('gen').agg({'distance_miles':'mean'}).sort_values(by = 'distance_miles', ascending = False)\n",
        "avg_dist"
      ],
      "execution_count": null,
      "outputs": []
    },
    {
      "cell_type": "code",
      "metadata": {
        "id": "IPE92vEc4Kpa"
      },
      "source": [
        "# Plot it\r\n",
        "\r\n",
        "avg_dist.plot(kind='bar', legend = None, rot = 45)\r\n",
        "plt.ylabel(\"Frequency\")\r\n",
        "plt.title('Distribution of Trip Distance in Each Age Group')\r\n",
        "plt.xlabel('Age Group')\r\n",
        "plt.rcParams[\"figure.figsize\"] = [10,8]\r\n",
        "plt.show()\r\n"
      ],
      "execution_count": null,
      "outputs": []
    },
    {
      "cell_type": "markdown",
      "metadata": {
        "id": "6H2buwAw4pjV"
      },
      "source": [
        "There are not too much difference in the average trip duration and average trip distance among all age groups. "
      ]
    },
    {
      "cell_type": "markdown",
      "metadata": {
        "id": "8_-9Tk0AgP2Q"
      },
      "source": [
        "## Genders"
      ]
    },
    {
      "cell_type": "code",
      "metadata": {
        "id": "Ly5OyUE3fbgt"
      },
      "source": [
        "bikedata_withcounts['gender_new'] = bikedata_withcounts['gender'].apply(lambda x: 'F' if x ==2 else 'M' if x ==1 else 'Unknown' )\n",
        "bikedata_withcounts[['gender', 'gender_new']].head()"
      ],
      "execution_count": null,
      "outputs": []
    },
    {
      "cell_type": "code",
      "metadata": {
        "id": "7HHnIwdZie4k"
      },
      "source": [
        "sns.countplot(x='gen',hue='gender_new',data = bikedata_withcounts)\n",
        "plt.xlabel('Age group')\n",
        "plt.ylabel('Freq.')\n",
        "plt.xticks(rotation=45);"
      ],
      "execution_count": null,
      "outputs": []
    },
    {
      "cell_type": "markdown",
      "metadata": {
        "id": "COioJ4zHNwvr"
      },
      "source": [
        "## Conclusion\r\n",
        "- Top CitiBike customers are millenials from the age of 24 to 39 males. They ride around 11 minutes and less than 1 mile each trip. Our assumption is these individuals use CitiBike for commuting purposes. \r\n",
        "- The individuals who are least likely to ride CitiBike are Gen Z, who are under 23 years old. Understandably that this age group might still be in school, CitiBike do have room for improvement in this group. They can have an incentive program (for example, buy a pass get a free pass, etc.) to build customer base. So that when this group becomes older and need a mean of transportation to commute, they would think about CitiBike first.   "
      ]
    },
    {
      "cell_type": "markdown",
      "metadata": {
        "id": "5AwnrI7j5vrw"
      },
      "source": [
        "# **Wrap-up: Lessons learned and technical challenges**\r\n",
        "\r\n",
        "**Lesson Learned**: Python is a powerful tool in analyzing data; we have learned to use various packages within Python to help us in the project. Besides the common ones such as Pandas and Numpy, we got to experience using Matplotlib and Seaborn to help us with data visualizations. We also got to use GeoPy and GeoPandas to help us get the distances and locations.\r\n",
        "\r\n",
        "We also learned that besides knowing how to write code and create pretty visualizations, it's important as a data analyst to build a powerful story based on the results we get. \r\n",
        "\r\n",
        "**Technical Challenges**: We did have to refer to prior class assingments and outside sources to look for what we wanted to do. And since our data is relatively large, it usually took a long time to load and run the data/code. And had the time  permitted, we would have also looked into analyzing the data for the whole year or recent years. "
      ]
    }
  ]
}